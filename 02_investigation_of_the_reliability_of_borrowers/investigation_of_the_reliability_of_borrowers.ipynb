{
 "cells": [
  {
   "cell_type": "markdown",
   "id": "386f2ae7",
   "metadata": {
    "deletable": false,
    "editable": false,
    "id": "386f2ae7"
   },
   "source": [
    "# Исследование надежности заемщиков\n"
   ]
  },
  {
   "cell_type": "markdown",
   "id": "26613308",
   "metadata": {
    "deletable": false,
    "editable": false,
    "id": "26613308"
   },
   "source": [
    "## Изучение общей информации о данных"
   ]
  },
  {
   "cell_type": "markdown",
   "id": "3c9f838e",
   "metadata": {
    "deletable": false,
    "editable": false,
    "id": "3c9f838e"
   },
   "source": [
    "**Задание 1. Импортируйте библиотеку pandas. Считайте данные из csv-файла в датафрейм и сохраните в переменную `data`. Путь к файлу:**\n",
    "\n",
    "`/datasets/data.csv`"
   ]
  },
  {
   "cell_type": "code",
   "execution_count": 1,
   "id": "77a68a90",
   "metadata": {
    "deletable": false,
    "id": "77a68a90"
   },
   "outputs": [],
   "source": [
    "import pandas as pd\n",
    "\n",
    "try:\n",
    "    data = pd.read_csv('/datasets/data.csv')\n",
    "except:\n",
    "    data = pd.read_csv('https://code.s3.yandex.net/datasets/data.csv')"
   ]
  },
  {
   "cell_type": "markdown",
   "id": "45365635",
   "metadata": {
    "deletable": false,
    "editable": false,
    "id": "45365635"
   },
   "source": [
    "**Задание 2. Выведите первые 20 строчек датафрейма `data` на экран.**"
   ]
  },
  {
   "cell_type": "code",
   "execution_count": 2,
   "id": "b0451a9a",
   "metadata": {
    "deletable": false,
    "id": "b0451a9a",
    "outputId": "1a8f3ef2-d323-4ec2-ddf7-89670b5944c4",
    "scrolled": true
   },
   "outputs": [
    {
     "data": {
      "text/html": [
       "<div>\n",
       "<style scoped>\n",
       "    .dataframe tbody tr th:only-of-type {\n",
       "        vertical-align: middle;\n",
       "    }\n",
       "\n",
       "    .dataframe tbody tr th {\n",
       "        vertical-align: top;\n",
       "    }\n",
       "\n",
       "    .dataframe thead th {\n",
       "        text-align: right;\n",
       "    }\n",
       "</style>\n",
       "<table border=\"1\" class=\"dataframe\">\n",
       "  <thead>\n",
       "    <tr style=\"text-align: right;\">\n",
       "      <th></th>\n",
       "      <th>children</th>\n",
       "      <th>days_employed</th>\n",
       "      <th>dob_years</th>\n",
       "      <th>education</th>\n",
       "      <th>education_id</th>\n",
       "      <th>family_status</th>\n",
       "      <th>family_status_id</th>\n",
       "      <th>gender</th>\n",
       "      <th>income_type</th>\n",
       "      <th>debt</th>\n",
       "      <th>total_income</th>\n",
       "      <th>purpose</th>\n",
       "    </tr>\n",
       "  </thead>\n",
       "  <tbody>\n",
       "    <tr>\n",
       "      <th>0</th>\n",
       "      <td>1</td>\n",
       "      <td>-8437.673028</td>\n",
       "      <td>42</td>\n",
       "      <td>высшее</td>\n",
       "      <td>0</td>\n",
       "      <td>женат / замужем</td>\n",
       "      <td>0</td>\n",
       "      <td>F</td>\n",
       "      <td>сотрудник</td>\n",
       "      <td>0</td>\n",
       "      <td>253875.639453</td>\n",
       "      <td>покупка жилья</td>\n",
       "    </tr>\n",
       "    <tr>\n",
       "      <th>1</th>\n",
       "      <td>1</td>\n",
       "      <td>-4024.803754</td>\n",
       "      <td>36</td>\n",
       "      <td>среднее</td>\n",
       "      <td>1</td>\n",
       "      <td>женат / замужем</td>\n",
       "      <td>0</td>\n",
       "      <td>F</td>\n",
       "      <td>сотрудник</td>\n",
       "      <td>0</td>\n",
       "      <td>112080.014102</td>\n",
       "      <td>приобретение автомобиля</td>\n",
       "    </tr>\n",
       "    <tr>\n",
       "      <th>2</th>\n",
       "      <td>0</td>\n",
       "      <td>-5623.422610</td>\n",
       "      <td>33</td>\n",
       "      <td>Среднее</td>\n",
       "      <td>1</td>\n",
       "      <td>женат / замужем</td>\n",
       "      <td>0</td>\n",
       "      <td>M</td>\n",
       "      <td>сотрудник</td>\n",
       "      <td>0</td>\n",
       "      <td>145885.952297</td>\n",
       "      <td>покупка жилья</td>\n",
       "    </tr>\n",
       "    <tr>\n",
       "      <th>3</th>\n",
       "      <td>3</td>\n",
       "      <td>-4124.747207</td>\n",
       "      <td>32</td>\n",
       "      <td>среднее</td>\n",
       "      <td>1</td>\n",
       "      <td>женат / замужем</td>\n",
       "      <td>0</td>\n",
       "      <td>M</td>\n",
       "      <td>сотрудник</td>\n",
       "      <td>0</td>\n",
       "      <td>267628.550329</td>\n",
       "      <td>дополнительное образование</td>\n",
       "    </tr>\n",
       "    <tr>\n",
       "      <th>4</th>\n",
       "      <td>0</td>\n",
       "      <td>340266.072047</td>\n",
       "      <td>53</td>\n",
       "      <td>среднее</td>\n",
       "      <td>1</td>\n",
       "      <td>гражданский брак</td>\n",
       "      <td>1</td>\n",
       "      <td>F</td>\n",
       "      <td>пенсионер</td>\n",
       "      <td>0</td>\n",
       "      <td>158616.077870</td>\n",
       "      <td>сыграть свадьбу</td>\n",
       "    </tr>\n",
       "    <tr>\n",
       "      <th>5</th>\n",
       "      <td>0</td>\n",
       "      <td>-926.185831</td>\n",
       "      <td>27</td>\n",
       "      <td>высшее</td>\n",
       "      <td>0</td>\n",
       "      <td>гражданский брак</td>\n",
       "      <td>1</td>\n",
       "      <td>M</td>\n",
       "      <td>компаньон</td>\n",
       "      <td>0</td>\n",
       "      <td>255763.565419</td>\n",
       "      <td>покупка жилья</td>\n",
       "    </tr>\n",
       "    <tr>\n",
       "      <th>6</th>\n",
       "      <td>0</td>\n",
       "      <td>-2879.202052</td>\n",
       "      <td>43</td>\n",
       "      <td>высшее</td>\n",
       "      <td>0</td>\n",
       "      <td>женат / замужем</td>\n",
       "      <td>0</td>\n",
       "      <td>F</td>\n",
       "      <td>компаньон</td>\n",
       "      <td>0</td>\n",
       "      <td>240525.971920</td>\n",
       "      <td>операции с жильем</td>\n",
       "    </tr>\n",
       "    <tr>\n",
       "      <th>7</th>\n",
       "      <td>0</td>\n",
       "      <td>-152.779569</td>\n",
       "      <td>50</td>\n",
       "      <td>СРЕДНЕЕ</td>\n",
       "      <td>1</td>\n",
       "      <td>женат / замужем</td>\n",
       "      <td>0</td>\n",
       "      <td>M</td>\n",
       "      <td>сотрудник</td>\n",
       "      <td>0</td>\n",
       "      <td>135823.934197</td>\n",
       "      <td>образование</td>\n",
       "    </tr>\n",
       "    <tr>\n",
       "      <th>8</th>\n",
       "      <td>2</td>\n",
       "      <td>-6929.865299</td>\n",
       "      <td>35</td>\n",
       "      <td>ВЫСШЕЕ</td>\n",
       "      <td>0</td>\n",
       "      <td>гражданский брак</td>\n",
       "      <td>1</td>\n",
       "      <td>F</td>\n",
       "      <td>сотрудник</td>\n",
       "      <td>0</td>\n",
       "      <td>95856.832424</td>\n",
       "      <td>на проведение свадьбы</td>\n",
       "    </tr>\n",
       "    <tr>\n",
       "      <th>9</th>\n",
       "      <td>0</td>\n",
       "      <td>-2188.756445</td>\n",
       "      <td>41</td>\n",
       "      <td>среднее</td>\n",
       "      <td>1</td>\n",
       "      <td>женат / замужем</td>\n",
       "      <td>0</td>\n",
       "      <td>M</td>\n",
       "      <td>сотрудник</td>\n",
       "      <td>0</td>\n",
       "      <td>144425.938277</td>\n",
       "      <td>покупка жилья для семьи</td>\n",
       "    </tr>\n",
       "    <tr>\n",
       "      <th>10</th>\n",
       "      <td>2</td>\n",
       "      <td>-4171.483647</td>\n",
       "      <td>36</td>\n",
       "      <td>высшее</td>\n",
       "      <td>0</td>\n",
       "      <td>женат / замужем</td>\n",
       "      <td>0</td>\n",
       "      <td>M</td>\n",
       "      <td>компаньон</td>\n",
       "      <td>0</td>\n",
       "      <td>113943.491460</td>\n",
       "      <td>покупка недвижимости</td>\n",
       "    </tr>\n",
       "    <tr>\n",
       "      <th>11</th>\n",
       "      <td>0</td>\n",
       "      <td>-792.701887</td>\n",
       "      <td>40</td>\n",
       "      <td>среднее</td>\n",
       "      <td>1</td>\n",
       "      <td>женат / замужем</td>\n",
       "      <td>0</td>\n",
       "      <td>F</td>\n",
       "      <td>сотрудник</td>\n",
       "      <td>0</td>\n",
       "      <td>77069.234271</td>\n",
       "      <td>покупка коммерческой недвижимости</td>\n",
       "    </tr>\n",
       "    <tr>\n",
       "      <th>12</th>\n",
       "      <td>0</td>\n",
       "      <td>NaN</td>\n",
       "      <td>65</td>\n",
       "      <td>среднее</td>\n",
       "      <td>1</td>\n",
       "      <td>гражданский брак</td>\n",
       "      <td>1</td>\n",
       "      <td>M</td>\n",
       "      <td>пенсионер</td>\n",
       "      <td>0</td>\n",
       "      <td>NaN</td>\n",
       "      <td>сыграть свадьбу</td>\n",
       "    </tr>\n",
       "    <tr>\n",
       "      <th>13</th>\n",
       "      <td>0</td>\n",
       "      <td>-1846.641941</td>\n",
       "      <td>54</td>\n",
       "      <td>неоконченное высшее</td>\n",
       "      <td>2</td>\n",
       "      <td>женат / замужем</td>\n",
       "      <td>0</td>\n",
       "      <td>F</td>\n",
       "      <td>сотрудник</td>\n",
       "      <td>0</td>\n",
       "      <td>130458.228857</td>\n",
       "      <td>приобретение автомобиля</td>\n",
       "    </tr>\n",
       "    <tr>\n",
       "      <th>14</th>\n",
       "      <td>0</td>\n",
       "      <td>-1844.956182</td>\n",
       "      <td>56</td>\n",
       "      <td>высшее</td>\n",
       "      <td>0</td>\n",
       "      <td>гражданский брак</td>\n",
       "      <td>1</td>\n",
       "      <td>F</td>\n",
       "      <td>компаньон</td>\n",
       "      <td>1</td>\n",
       "      <td>165127.911772</td>\n",
       "      <td>покупка жилой недвижимости</td>\n",
       "    </tr>\n",
       "    <tr>\n",
       "      <th>15</th>\n",
       "      <td>1</td>\n",
       "      <td>-972.364419</td>\n",
       "      <td>26</td>\n",
       "      <td>среднее</td>\n",
       "      <td>1</td>\n",
       "      <td>женат / замужем</td>\n",
       "      <td>0</td>\n",
       "      <td>F</td>\n",
       "      <td>сотрудник</td>\n",
       "      <td>0</td>\n",
       "      <td>116820.904450</td>\n",
       "      <td>строительство собственной недвижимости</td>\n",
       "    </tr>\n",
       "    <tr>\n",
       "      <th>16</th>\n",
       "      <td>0</td>\n",
       "      <td>-1719.934226</td>\n",
       "      <td>35</td>\n",
       "      <td>среднее</td>\n",
       "      <td>1</td>\n",
       "      <td>женат / замужем</td>\n",
       "      <td>0</td>\n",
       "      <td>F</td>\n",
       "      <td>сотрудник</td>\n",
       "      <td>0</td>\n",
       "      <td>289202.704229</td>\n",
       "      <td>недвижимость</td>\n",
       "    </tr>\n",
       "    <tr>\n",
       "      <th>17</th>\n",
       "      <td>0</td>\n",
       "      <td>-2369.999720</td>\n",
       "      <td>33</td>\n",
       "      <td>высшее</td>\n",
       "      <td>0</td>\n",
       "      <td>гражданский брак</td>\n",
       "      <td>1</td>\n",
       "      <td>M</td>\n",
       "      <td>сотрудник</td>\n",
       "      <td>0</td>\n",
       "      <td>90410.586745</td>\n",
       "      <td>строительство недвижимости</td>\n",
       "    </tr>\n",
       "    <tr>\n",
       "      <th>18</th>\n",
       "      <td>0</td>\n",
       "      <td>400281.136913</td>\n",
       "      <td>53</td>\n",
       "      <td>среднее</td>\n",
       "      <td>1</td>\n",
       "      <td>вдовец / вдова</td>\n",
       "      <td>2</td>\n",
       "      <td>F</td>\n",
       "      <td>пенсионер</td>\n",
       "      <td>0</td>\n",
       "      <td>56823.777243</td>\n",
       "      <td>на покупку подержанного автомобиля</td>\n",
       "    </tr>\n",
       "    <tr>\n",
       "      <th>19</th>\n",
       "      <td>0</td>\n",
       "      <td>-10038.818549</td>\n",
       "      <td>48</td>\n",
       "      <td>СРЕДНЕЕ</td>\n",
       "      <td>1</td>\n",
       "      <td>в разводе</td>\n",
       "      <td>3</td>\n",
       "      <td>F</td>\n",
       "      <td>сотрудник</td>\n",
       "      <td>0</td>\n",
       "      <td>242831.107982</td>\n",
       "      <td>на покупку своего автомобиля</td>\n",
       "    </tr>\n",
       "  </tbody>\n",
       "</table>\n",
       "</div>"
      ],
      "text/plain": [
       "    children  days_employed  dob_years            education  education_id  \\\n",
       "0          1   -8437.673028         42               высшее             0   \n",
       "1          1   -4024.803754         36              среднее             1   \n",
       "2          0   -5623.422610         33              Среднее             1   \n",
       "3          3   -4124.747207         32              среднее             1   \n",
       "4          0  340266.072047         53              среднее             1   \n",
       "5          0    -926.185831         27               высшее             0   \n",
       "6          0   -2879.202052         43               высшее             0   \n",
       "7          0    -152.779569         50              СРЕДНЕЕ             1   \n",
       "8          2   -6929.865299         35               ВЫСШЕЕ             0   \n",
       "9          0   -2188.756445         41              среднее             1   \n",
       "10         2   -4171.483647         36               высшее             0   \n",
       "11         0    -792.701887         40              среднее             1   \n",
       "12         0            NaN         65              среднее             1   \n",
       "13         0   -1846.641941         54  неоконченное высшее             2   \n",
       "14         0   -1844.956182         56               высшее             0   \n",
       "15         1    -972.364419         26              среднее             1   \n",
       "16         0   -1719.934226         35              среднее             1   \n",
       "17         0   -2369.999720         33               высшее             0   \n",
       "18         0  400281.136913         53              среднее             1   \n",
       "19         0  -10038.818549         48              СРЕДНЕЕ             1   \n",
       "\n",
       "       family_status  family_status_id gender income_type  debt  \\\n",
       "0    женат / замужем                 0      F   сотрудник     0   \n",
       "1    женат / замужем                 0      F   сотрудник     0   \n",
       "2    женат / замужем                 0      M   сотрудник     0   \n",
       "3    женат / замужем                 0      M   сотрудник     0   \n",
       "4   гражданский брак                 1      F   пенсионер     0   \n",
       "5   гражданский брак                 1      M   компаньон     0   \n",
       "6    женат / замужем                 0      F   компаньон     0   \n",
       "7    женат / замужем                 0      M   сотрудник     0   \n",
       "8   гражданский брак                 1      F   сотрудник     0   \n",
       "9    женат / замужем                 0      M   сотрудник     0   \n",
       "10   женат / замужем                 0      M   компаньон     0   \n",
       "11   женат / замужем                 0      F   сотрудник     0   \n",
       "12  гражданский брак                 1      M   пенсионер     0   \n",
       "13   женат / замужем                 0      F   сотрудник     0   \n",
       "14  гражданский брак                 1      F   компаньон     1   \n",
       "15   женат / замужем                 0      F   сотрудник     0   \n",
       "16   женат / замужем                 0      F   сотрудник     0   \n",
       "17  гражданский брак                 1      M   сотрудник     0   \n",
       "18    вдовец / вдова                 2      F   пенсионер     0   \n",
       "19         в разводе                 3      F   сотрудник     0   \n",
       "\n",
       "     total_income                                 purpose  \n",
       "0   253875.639453                           покупка жилья  \n",
       "1   112080.014102                 приобретение автомобиля  \n",
       "2   145885.952297                           покупка жилья  \n",
       "3   267628.550329              дополнительное образование  \n",
       "4   158616.077870                         сыграть свадьбу  \n",
       "5   255763.565419                           покупка жилья  \n",
       "6   240525.971920                       операции с жильем  \n",
       "7   135823.934197                             образование  \n",
       "8    95856.832424                   на проведение свадьбы  \n",
       "9   144425.938277                 покупка жилья для семьи  \n",
       "10  113943.491460                    покупка недвижимости  \n",
       "11   77069.234271       покупка коммерческой недвижимости  \n",
       "12            NaN                         сыграть свадьбу  \n",
       "13  130458.228857                 приобретение автомобиля  \n",
       "14  165127.911772              покупка жилой недвижимости  \n",
       "15  116820.904450  строительство собственной недвижимости  \n",
       "16  289202.704229                            недвижимость  \n",
       "17   90410.586745              строительство недвижимости  \n",
       "18   56823.777243      на покупку подержанного автомобиля  \n",
       "19  242831.107982            на покупку своего автомобиля  "
      ]
     },
     "execution_count": 2,
     "metadata": {},
     "output_type": "execute_result"
    }
   ],
   "source": [
    "data.head(20)"
   ]
  },
  {
   "cell_type": "markdown",
   "id": "0ed8f27f",
   "metadata": {
    "deletable": false,
    "editable": false,
    "id": "0ed8f27f"
   },
   "source": [
    "**Задание 3. Выведите основную информацию о датафрейме с помощью метода `info()`.**"
   ]
  },
  {
   "cell_type": "code",
   "execution_count": 3,
   "id": "ab3f863b",
   "metadata": {
    "deletable": false,
    "id": "ab3f863b",
    "outputId": "15376089-8dad-46c9-b520-c05248d43158"
   },
   "outputs": [
    {
     "name": "stdout",
     "output_type": "stream",
     "text": [
      "<class 'pandas.core.frame.DataFrame'>\n",
      "RangeIndex: 21525 entries, 0 to 21524\n",
      "Data columns (total 12 columns):\n",
      " #   Column            Non-Null Count  Dtype  \n",
      "---  ------            --------------  -----  \n",
      " 0   children          21525 non-null  int64  \n",
      " 1   days_employed     19351 non-null  float64\n",
      " 2   dob_years         21525 non-null  int64  \n",
      " 3   education         21525 non-null  object \n",
      " 4   education_id      21525 non-null  int64  \n",
      " 5   family_status     21525 non-null  object \n",
      " 6   family_status_id  21525 non-null  int64  \n",
      " 7   gender            21525 non-null  object \n",
      " 8   income_type       21525 non-null  object \n",
      " 9   debt              21525 non-null  int64  \n",
      " 10  total_income      19351 non-null  float64\n",
      " 11  purpose           21525 non-null  object \n",
      "dtypes: float64(2), int64(5), object(5)\n",
      "memory usage: 2.0+ MB\n"
     ]
    }
   ],
   "source": [
    "data.info()"
   ]
  },
  {
   "cell_type": "markdown",
   "id": "60e3e22d",
   "metadata": {
    "deletable": false,
    "editable": false,
    "id": "60e3e22d"
   },
   "source": [
    "## Предобработка данных"
   ]
  },
  {
   "cell_type": "markdown",
   "id": "03dc170c",
   "metadata": {
    "deletable": false,
    "editable": false,
    "id": "03dc170c"
   },
   "source": [
    "### Удаление пропусков"
   ]
  },
  {
   "cell_type": "markdown",
   "id": "a4f54eef",
   "metadata": {
    "deletable": false,
    "editable": false,
    "id": "a4f54eef"
   },
   "source": [
    "**Задание 4. Выведите количество пропущенных значений для каждого столбца. Используйте комбинацию двух методов.**"
   ]
  },
  {
   "cell_type": "code",
   "execution_count": 4,
   "id": "2dc372b2",
   "metadata": {
    "deletable": false,
    "id": "2dc372b2",
    "outputId": "81f4d817-781c-465c-ed15-91ce4446810d"
   },
   "outputs": [
    {
     "data": {
      "text/plain": [
       "children               0\n",
       "days_employed       2174\n",
       "dob_years              0\n",
       "education              0\n",
       "education_id           0\n",
       "family_status          0\n",
       "family_status_id       0\n",
       "gender                 0\n",
       "income_type            0\n",
       "debt                   0\n",
       "total_income        2174\n",
       "purpose                0\n",
       "dtype: int64"
      ]
     },
     "execution_count": 4,
     "metadata": {},
     "output_type": "execute_result"
    }
   ],
   "source": [
    "data.isna().sum()"
   ]
  },
  {
   "cell_type": "markdown",
   "id": "14f011b1",
   "metadata": {
    "deletable": false,
    "editable": false,
    "id": "14f011b1"
   },
   "source": [
    "**Задание 5. В двух столбцах есть пропущенные значения. Один из них — `days_employed`. Пропуски в этом столбце вы обработаете на следующем этапе. Другой столбец с пропущенными значениями — `total_income` — хранит данные о доходах. На сумму дохода сильнее всего влияет тип занятости, поэтому заполнить пропуски в этом столбце нужно медианным значением по каждому типу из столбца `income_type`. Например, у человека с типом занятости `сотрудник` пропуск в столбце `total_income` должен быть заполнен медианным доходом среди всех записей с тем же типом.**"
   ]
  },
  {
   "cell_type": "code",
   "execution_count": 5,
   "id": "bdabfb6e",
   "metadata": {
    "deletable": false,
    "id": "bdabfb6e"
   },
   "outputs": [],
   "source": [
    "for t in data['income_type'].unique():\n",
    "    data.loc[(data['income_type'] == t) & (data['total_income'].isna()), 'total_income'] = \\\n",
    "    data.loc[(data['income_type'] == t), 'total_income'].median()"
   ]
  },
  {
   "cell_type": "markdown",
   "id": "5be34059",
   "metadata": {
    "deletable": false,
    "editable": false,
    "id": "5be34059"
   },
   "source": [
    "### Обработка аномальных значений"
   ]
  },
  {
   "cell_type": "markdown",
   "id": "a87606cb",
   "metadata": {
    "deletable": false,
    "editable": false,
    "id": "a87606cb"
   },
   "source": [
    "**Задание 6. В данных могут встречаться артефакты (аномалии) — значения, которые не отражают действительность и появились по какой-то ошибке. таким артефактом будет отрицательное количество дней трудового стажа в столбце `days_employed`. Для реальных данных это нормально. Обработайте значения в этом столбце: замените все отрицательные значения положительными с помощью метода `abs()`.**"
   ]
  },
  {
   "cell_type": "code",
   "execution_count": 6,
   "id": "020c46cc",
   "metadata": {
    "deletable": false,
    "id": "020c46cc"
   },
   "outputs": [],
   "source": [
    "data['days_employed'] = data['days_employed'].abs()"
   ]
  },
  {
   "cell_type": "markdown",
   "id": "45538a3a",
   "metadata": {
    "deletable": false,
    "editable": false,
    "id": "45538a3a"
   },
   "source": [
    "**Задание 7. Для каждого типа занятости выведите медианное значение трудового стажа `days_employed` в днях.**"
   ]
  },
  {
   "cell_type": "code",
   "execution_count": 7,
   "id": "cd3e6328",
   "metadata": {
    "deletable": false,
    "id": "cd3e6328",
    "outputId": "801ef80e-522b-4668-f34e-565af7432bcf"
   },
   "outputs": [
    {
     "data": {
      "text/plain": [
       "income_type\n",
       "безработный        366413.652744\n",
       "в декрете            3296.759962\n",
       "госслужащий          2689.368353\n",
       "компаньон            1547.382223\n",
       "пенсионер          365213.306266\n",
       "предприниматель       520.848083\n",
       "сотрудник            1574.202821\n",
       "студент               578.751554\n",
       "Name: days_employed, dtype: float64"
      ]
     },
     "execution_count": 7,
     "metadata": {},
     "output_type": "execute_result"
    }
   ],
   "source": [
    "data.groupby('income_type')['days_employed'].agg('median')"
   ]
  },
  {
   "cell_type": "markdown",
   "id": "90c5f058",
   "metadata": {
    "deletable": false,
    "editable": false,
    "id": "90c5f058"
   },
   "source": [
    "У двух типов (безработные и пенсионеры) получатся аномально большие значения. Исправить такие значения сложно, поэтому оставьте их как есть."
   ]
  },
  {
   "cell_type": "markdown",
   "id": "9652e50d",
   "metadata": {
    "deletable": false,
    "editable": false,
    "id": "9652e50d"
   },
   "source": [
    "**Задание 8. Выведите перечень уникальных значений столбца `children`.**"
   ]
  },
  {
   "cell_type": "code",
   "execution_count": 8,
   "id": "dbb37b8e",
   "metadata": {
    "deletable": false,
    "id": "dbb37b8e",
    "outputId": "6975b15c-7f95-4697-d16d-a0c79b657b03"
   },
   "outputs": [
    {
     "data": {
      "text/plain": [
       "array([ 1,  0,  3,  2, -1,  4, 20,  5], dtype=int64)"
      ]
     },
     "execution_count": 8,
     "metadata": {},
     "output_type": "execute_result"
    }
   ],
   "source": [
    "data['children'].unique()"
   ]
  },
  {
   "cell_type": "markdown",
   "id": "2b8b0715",
   "metadata": {
    "deletable": false,
    "editable": false,
    "id": "2b8b0715"
   },
   "source": [
    "**Задание 9. В столбце `children` есть два аномальных значения. Удалите строки, в которых встречаются такие аномальные значения из датафрейма `data`.**"
   ]
  },
  {
   "cell_type": "code",
   "execution_count": 9,
   "id": "20009df8",
   "metadata": {
    "deletable": false,
    "id": "20009df8"
   },
   "outputs": [],
   "source": [
    "data = data[(data['children'] != -1) & (data['children'] != 20)]"
   ]
  },
  {
   "cell_type": "markdown",
   "id": "8c6ac9f1",
   "metadata": {
    "deletable": false,
    "editable": false,
    "id": "8c6ac9f1"
   },
   "source": [
    "**Задание 10. Ещё раз выведите перечень уникальных значений столбца `children`, чтобы убедиться, что артефакты удалены.**"
   ]
  },
  {
   "cell_type": "code",
   "execution_count": 10,
   "id": "07337b81",
   "metadata": {
    "deletable": false,
    "id": "07337b81",
    "outputId": "b2097101-d49d-44d9-901b-32a65c9463d1"
   },
   "outputs": [
    {
     "data": {
      "text/plain": [
       "array([1, 0, 3, 2, 4, 5], dtype=int64)"
      ]
     },
     "execution_count": 10,
     "metadata": {},
     "output_type": "execute_result"
    }
   ],
   "source": [
    "data['children'].unique()"
   ]
  },
  {
   "cell_type": "markdown",
   "id": "ee3f52d4",
   "metadata": {
    "deletable": false,
    "editable": false,
    "id": "ee3f52d4"
   },
   "source": [
    "### Удаление пропусков (продолжение)"
   ]
  },
  {
   "cell_type": "markdown",
   "id": "a700b0e4",
   "metadata": {
    "deletable": false,
    "editable": false,
    "id": "a700b0e4"
   },
   "source": [
    "**Задание 11. Заполните пропуски в столбце `days_employed` медианными значениями по каждого типа занятости `income_type`.**"
   ]
  },
  {
   "cell_type": "code",
   "execution_count": 11,
   "id": "61946b83",
   "metadata": {
    "deletable": false,
    "id": "61946b83"
   },
   "outputs": [],
   "source": [
    "for t in data['income_type'].unique():\n",
    "    data.loc[(data['income_type'] == t) & (data['days_employed'].isna()), 'days_employed'] = \\\n",
    "    data.loc[(data['income_type'] == t), 'days_employed'].median()"
   ]
  },
  {
   "cell_type": "markdown",
   "id": "550dcd9b",
   "metadata": {
    "deletable": false,
    "editable": false,
    "id": "550dcd9b"
   },
   "source": [
    "**Задание 12. Убедитесь, что все пропуски заполнены. Проверьте себя и ещё раз выведите количество пропущенных значений для каждого столбца с помощью двух методов.**"
   ]
  },
  {
   "cell_type": "code",
   "execution_count": 12,
   "id": "937c7014",
   "metadata": {
    "deletable": false,
    "id": "937c7014",
    "outputId": "8da1e4e1-358e-4e87-98c9-f261bce0a7b2"
   },
   "outputs": [
    {
     "data": {
      "text/plain": [
       "children            0\n",
       "days_employed       0\n",
       "dob_years           0\n",
       "education           0\n",
       "education_id        0\n",
       "family_status       0\n",
       "family_status_id    0\n",
       "gender              0\n",
       "income_type         0\n",
       "debt                0\n",
       "total_income        0\n",
       "purpose             0\n",
       "dtype: int64"
      ]
     },
     "execution_count": 12,
     "metadata": {},
     "output_type": "execute_result"
    }
   ],
   "source": [
    "data.isna().sum()"
   ]
  },
  {
   "cell_type": "markdown",
   "id": "d522e295",
   "metadata": {
    "deletable": false,
    "editable": false,
    "id": "d522e295"
   },
   "source": [
    "### Изменение типов данных"
   ]
  },
  {
   "cell_type": "markdown",
   "id": "c229c581",
   "metadata": {
    "deletable": false,
    "editable": false,
    "id": "c229c581"
   },
   "source": [
    "**Задание 13. Замените вещественный тип данных в столбце `total_income` на целочисленный с помощью метода `astype()`.**"
   ]
  },
  {
   "cell_type": "code",
   "execution_count": 13,
   "id": "31036462",
   "metadata": {
    "deletable": false,
    "id": "31036462"
   },
   "outputs": [],
   "source": [
    "data['total_income'] = data['total_income'].astype(int)"
   ]
  },
  {
   "cell_type": "markdown",
   "id": "b8e3d1d9",
   "metadata": {
    "deletable": false,
    "editable": false,
    "id": "b8e3d1d9"
   },
   "source": [
    "### Обработка дубликатов"
   ]
  },
  {
   "cell_type": "markdown",
   "id": "9be53c49",
   "metadata": {
    "deletable": false,
    "editable": false,
    "id": "9be53c49"
   },
   "source": [
    "**Задание 14. Обработайте неявные дубликаты в столбце `education`. В этом столбце есть одни и те же значения, но записанные по-разному: с использованием заглавных и строчных букв. Приведите их к нижнему регистру.**"
   ]
  },
  {
   "cell_type": "code",
   "execution_count": 14,
   "id": "d89e73e1",
   "metadata": {
    "deletable": false,
    "id": "d89e73e1"
   },
   "outputs": [],
   "source": [
    "data['education'] = data['education'].str.lower()"
   ]
  },
  {
   "cell_type": "markdown",
   "id": "01d4500e",
   "metadata": {
    "deletable": false,
    "editable": false,
    "id": "01d4500e"
   },
   "source": [
    "**Задание 15. Выведите на экран количество строк-дубликатов в данных. Если такие строки присутствуют, удалите их.**"
   ]
  },
  {
   "cell_type": "code",
   "execution_count": 15,
   "id": "e10efb23",
   "metadata": {
    "deletable": false,
    "id": "e10efb23",
    "outputId": "9684deba-1934-42d1-99e1-cda61740f822"
   },
   "outputs": [
    {
     "data": {
      "text/plain": [
       "71"
      ]
     },
     "execution_count": 15,
     "metadata": {},
     "output_type": "execute_result"
    }
   ],
   "source": [
    "data.duplicated().sum()"
   ]
  },
  {
   "cell_type": "code",
   "execution_count": 16,
   "id": "df853f20",
   "metadata": {
    "deletable": false,
    "id": "df853f20"
   },
   "outputs": [],
   "source": [
    "data = data.drop_duplicates()"
   ]
  },
  {
   "cell_type": "markdown",
   "id": "627be38f",
   "metadata": {
    "deletable": false,
    "editable": false,
    "id": "627be38f"
   },
   "source": [
    "### Категоризация данных"
   ]
  },
  {
   "cell_type": "markdown",
   "id": "4684c3e0",
   "metadata": {
    "deletable": false,
    "editable": false,
    "id": "4684c3e0"
   },
   "source": [
    "**Задание 16. На основании диапазонов, указанных ниже, создайте в датафрейме `data` столбец `total_income_category` с категориями:**\n",
    "\n",
    "- 0–30000 — `'E'`;\n",
    "- 30001–50000 — `'D'`;\n",
    "- 50001–200000 — `'C'`;\n",
    "- 200001–1000000 — `'B'`;\n",
    "- 1000001 и выше — `'A'`.\n",
    "\n",
    "\n",
    "**Например, кредитополучателю с доходом 25000 нужно назначить категорию `'E'`, а клиенту, получающему 235000, — `'B'`. Используйте собственную функцию с именем `categorize_income()` и метод `apply()`.**"
   ]
  },
  {
   "cell_type": "code",
   "execution_count": 17,
   "id": "78965238",
   "metadata": {
    "deletable": false,
    "id": "78965238"
   },
   "outputs": [],
   "source": [
    "def categorize_income(income):\n",
    "    try:\n",
    "        if 0 <= income <= 30000:\n",
    "            return 'E'\n",
    "        elif 30001 <= income <= 50000:\n",
    "            return 'D'\n",
    "        elif 50001 <= income <= 200000:\n",
    "            return 'C'\n",
    "        elif 200001 <= income <= 1000000:\n",
    "            return 'B'\n",
    "        elif income >= 1000001:\n",
    "            return 'A'\n",
    "    except:\n",
    "        pass"
   ]
  },
  {
   "cell_type": "code",
   "execution_count": 18,
   "id": "0980ada1",
   "metadata": {
    "deletable": false,
    "id": "0980ada1"
   },
   "outputs": [],
   "source": [
    "data['total_income_category'] = data['total_income'].apply(categorize_income)"
   ]
  },
  {
   "cell_type": "markdown",
   "id": "9917bba0",
   "metadata": {
    "deletable": false,
    "editable": false,
    "id": "9917bba0"
   },
   "source": [
    "**Задание 17. Выведите на экран перечень уникальных целей взятия кредита из столбца `purpose`.**"
   ]
  },
  {
   "cell_type": "code",
   "execution_count": 19,
   "id": "ee07b65e",
   "metadata": {
    "deletable": false,
    "id": "ee07b65e",
    "outputId": "673c12d9-7d7e-4ae0-9812-c622c89dd244"
   },
   "outputs": [
    {
     "data": {
      "text/plain": [
       "array(['покупка жилья', 'приобретение автомобиля',\n",
       "       'дополнительное образование', 'сыграть свадьбу',\n",
       "       'операции с жильем', 'образование', 'на проведение свадьбы',\n",
       "       'покупка жилья для семьи', 'покупка недвижимости',\n",
       "       'покупка коммерческой недвижимости', 'покупка жилой недвижимости',\n",
       "       'строительство собственной недвижимости', 'недвижимость',\n",
       "       'строительство недвижимости', 'на покупку подержанного автомобиля',\n",
       "       'на покупку своего автомобиля',\n",
       "       'операции с коммерческой недвижимостью',\n",
       "       'строительство жилой недвижимости', 'жилье',\n",
       "       'операции со своей недвижимостью', 'автомобили',\n",
       "       'заняться образованием', 'сделка с подержанным автомобилем',\n",
       "       'получение образования', 'автомобиль', 'свадьба',\n",
       "       'получение дополнительного образования', 'покупка своего жилья',\n",
       "       'операции с недвижимостью', 'получение высшего образования',\n",
       "       'свой автомобиль', 'сделка с автомобилем',\n",
       "       'профильное образование', 'высшее образование',\n",
       "       'покупка жилья для сдачи', 'на покупку автомобиля', 'ремонт жилью',\n",
       "       'заняться высшим образованием'], dtype=object)"
      ]
     },
     "execution_count": 19,
     "metadata": {},
     "output_type": "execute_result"
    }
   ],
   "source": [
    "data['purpose'].unique()"
   ]
  },
  {
   "cell_type": "markdown",
   "id": "52b79d56",
   "metadata": {
    "deletable": false,
    "editable": false,
    "id": "52b79d56"
   },
   "source": [
    "**Задание 18. Создайте функцию, которая на основании данных из столбца `purpose` сформирует новый столбец `purpose_category`, в который войдут следующие категории:**\n",
    "\n",
    "- `'операции с автомобилем'`,\n",
    "- `'операции с недвижимостью'`,\n",
    "- `'проведение свадьбы'`,\n",
    "- `'получение образования'`.\n",
    "\n",
    "**Например, если в столбце `purpose` находится подстрока `'на покупку автомобиля'`, то в столбце `purpose_category` должна появиться строка `'операции с автомобилем'`.**\n",
    "\n",
    "**Используйте собственную функцию с именем `categorize_purpose()` и метод `apply()`. Изучите данные в столбце `purpose` и определите, какие подстроки помогут вам правильно определить категорию.**"
   ]
  },
  {
   "cell_type": "code",
   "execution_count": 20,
   "id": "be41da5d",
   "metadata": {
    "deletable": false,
    "id": "be41da5d"
   },
   "outputs": [],
   "source": [
    "def categorize_purpose(row):\n",
    "    try:\n",
    "        if 'автом' in row:\n",
    "            return 'операции с автомобилем'\n",
    "        elif 'жил' in row or 'недвиж' in row:\n",
    "            return 'операции с недвижимостью'\n",
    "        elif 'свад' in row:\n",
    "            return 'проведение свадьбы'\n",
    "        elif 'образов' in row:\n",
    "            return 'получение образования'\n",
    "    except:\n",
    "        return 'нет категории'"
   ]
  },
  {
   "cell_type": "code",
   "execution_count": 21,
   "id": "94c4a19a",
   "metadata": {
    "deletable": false,
    "id": "94c4a19a"
   },
   "outputs": [],
   "source": [
    "data['purpose_category'] = data['purpose'].apply(categorize_purpose)"
   ]
  },
  {
   "cell_type": "markdown",
   "id": "3d596c34",
   "metadata": {
    "deletable": false,
    "editable": false,
    "id": "3d596c34"
   },
   "source": [
    "### Шаг 3. Исследуйте данные и ответьте на вопросы"
   ]
  },
  {
   "cell_type": "code",
   "execution_count": 22,
   "id": "6e2436a1-e8ef-4530-a04f-0bfc3b2fb3ed",
   "metadata": {},
   "outputs": [],
   "source": [
    "import matplotlib.pyplot as plt # подключаем библиотеку для визуализации полученных данных"
   ]
  },
  {
   "cell_type": "code",
   "execution_count": 23,
   "id": "ec360cf0-d022-4944-a98f-14fedcdf4644",
   "metadata": {},
   "outputs": [],
   "source": [
    "# создали функцию, которая принимает на вход таблицу и имя столбца, по которому необходимо сгруппировать данные, и возвращать агрегированные значения по столбцу debt.\n",
    "def aggregation_debt(data, column_name):\n",
    "    return data.groupby(column_name)['debt'].agg(['count', 'sum', 'mean'])"
   ]
  },
  {
   "cell_type": "markdown",
   "id": "648db036",
   "metadata": {
    "deletable": false,
    "editable": false,
    "id": "648db036"
   },
   "source": [
    "#### 3.1 Есть ли зависимость между количеством детей и возвратом кредита в срок?"
   ]
  },
  {
   "cell_type": "code",
   "execution_count": 24,
   "id": "7fcff25e",
   "metadata": {
    "deletable": false,
    "id": "7fcff25e"
   },
   "outputs": [
    {
     "data": {
      "text/html": [
       "<div>\n",
       "<style scoped>\n",
       "    .dataframe tbody tr th:only-of-type {\n",
       "        vertical-align: middle;\n",
       "    }\n",
       "\n",
       "    .dataframe tbody tr th {\n",
       "        vertical-align: top;\n",
       "    }\n",
       "\n",
       "    .dataframe thead th {\n",
       "        text-align: right;\n",
       "    }\n",
       "</style>\n",
       "<table border=\"1\" class=\"dataframe\">\n",
       "  <thead>\n",
       "    <tr style=\"text-align: right;\">\n",
       "      <th></th>\n",
       "      <th>count</th>\n",
       "      <th>sum</th>\n",
       "      <th>mean</th>\n",
       "    </tr>\n",
       "    <tr>\n",
       "      <th>children</th>\n",
       "      <th></th>\n",
       "      <th></th>\n",
       "      <th></th>\n",
       "    </tr>\n",
       "  </thead>\n",
       "  <tbody>\n",
       "    <tr>\n",
       "      <th>0</th>\n",
       "      <td>14091</td>\n",
       "      <td>1063</td>\n",
       "      <td>0.075438</td>\n",
       "    </tr>\n",
       "    <tr>\n",
       "      <th>1</th>\n",
       "      <td>4808</td>\n",
       "      <td>444</td>\n",
       "      <td>0.092346</td>\n",
       "    </tr>\n",
       "    <tr>\n",
       "      <th>2</th>\n",
       "      <td>2052</td>\n",
       "      <td>194</td>\n",
       "      <td>0.094542</td>\n",
       "    </tr>\n",
       "    <tr>\n",
       "      <th>3</th>\n",
       "      <td>330</td>\n",
       "      <td>27</td>\n",
       "      <td>0.081818</td>\n",
       "    </tr>\n",
       "    <tr>\n",
       "      <th>4</th>\n",
       "      <td>41</td>\n",
       "      <td>4</td>\n",
       "      <td>0.097561</td>\n",
       "    </tr>\n",
       "    <tr>\n",
       "      <th>5</th>\n",
       "      <td>9</td>\n",
       "      <td>0</td>\n",
       "      <td>0.000000</td>\n",
       "    </tr>\n",
       "  </tbody>\n",
       "</table>\n",
       "</div>"
      ],
      "text/plain": [
       "          count   sum      mean\n",
       "children                       \n",
       "0         14091  1063  0.075438\n",
       "1          4808   444  0.092346\n",
       "2          2052   194  0.094542\n",
       "3           330    27  0.081818\n",
       "4            41     4  0.097561\n",
       "5             9     0  0.000000"
      ]
     },
     "execution_count": 24,
     "metadata": {},
     "output_type": "execute_result"
    }
   ],
   "source": [
    "# выразили общее количество людей, сколько всего имеют задолжность и конверсию возрата кредита в срок относительно количества детей у клиентов \n",
    "data_2 = aggregation_debt(data, 'children')\n",
    "data_2"
   ]
  },
  {
   "cell_type": "code",
   "execution_count": 25,
   "id": "81922bb8",
   "metadata": {},
   "outputs": [
    {
     "data": {
      "text/html": [
       "<div>\n",
       "<style scoped>\n",
       "    .dataframe tbody tr th:only-of-type {\n",
       "        vertical-align: middle;\n",
       "    }\n",
       "\n",
       "    .dataframe tbody tr th {\n",
       "        vertical-align: top;\n",
       "    }\n",
       "\n",
       "    .dataframe thead th {\n",
       "        text-align: right;\n",
       "    }\n",
       "</style>\n",
       "<table border=\"1\" class=\"dataframe\">\n",
       "  <thead>\n",
       "    <tr style=\"text-align: right;\">\n",
       "      <th></th>\n",
       "      <th>count</th>\n",
       "      <th>sum</th>\n",
       "      <th>mean</th>\n",
       "    </tr>\n",
       "    <tr>\n",
       "      <th>children</th>\n",
       "      <th></th>\n",
       "      <th></th>\n",
       "      <th></th>\n",
       "    </tr>\n",
       "  </thead>\n",
       "  <tbody>\n",
       "    <tr>\n",
       "      <th>4</th>\n",
       "      <td>41</td>\n",
       "      <td>4</td>\n",
       "      <td>0.097561</td>\n",
       "    </tr>\n",
       "    <tr>\n",
       "      <th>2</th>\n",
       "      <td>2052</td>\n",
       "      <td>194</td>\n",
       "      <td>0.094542</td>\n",
       "    </tr>\n",
       "    <tr>\n",
       "      <th>1</th>\n",
       "      <td>4808</td>\n",
       "      <td>444</td>\n",
       "      <td>0.092346</td>\n",
       "    </tr>\n",
       "    <tr>\n",
       "      <th>3</th>\n",
       "      <td>330</td>\n",
       "      <td>27</td>\n",
       "      <td>0.081818</td>\n",
       "    </tr>\n",
       "    <tr>\n",
       "      <th>0</th>\n",
       "      <td>14091</td>\n",
       "      <td>1063</td>\n",
       "      <td>0.075438</td>\n",
       "    </tr>\n",
       "    <tr>\n",
       "      <th>5</th>\n",
       "      <td>9</td>\n",
       "      <td>0</td>\n",
       "      <td>0.000000</td>\n",
       "    </tr>\n",
       "  </tbody>\n",
       "</table>\n",
       "</div>"
      ],
      "text/plain": [
       "          count   sum      mean\n",
       "children                       \n",
       "4            41     4  0.097561\n",
       "2          2052   194  0.094542\n",
       "1          4808   444  0.092346\n",
       "3           330    27  0.081818\n",
       "0         14091  1063  0.075438\n",
       "5             9     0  0.000000"
      ]
     },
     "execution_count": 25,
     "metadata": {},
     "output_type": "execute_result"
    }
   ],
   "source": [
    "# отсортировали таблицу по конверсии по убыванию: чем выше группа, тем больше вероятность задолженности\n",
    "data_2.sort_values(by='mean', ascending=False) "
   ]
  },
  {
   "cell_type": "code",
   "execution_count": 26,
   "id": "b6548182",
   "metadata": {},
   "outputs": [
    {
     "data": {
      "image/png": "[encoded data removed]",
      "text/plain": [
       "<Figure size 640x480 with 1 Axes>"
      ]
     },
     "metadata": {},
     "output_type": "display_data"
    }
   ],
   "source": [
    "# визуализация полученных данных с помощью графика\n",
    "\n",
    "x = list(data_2.index)\n",
    "y = list(data_2['mean'])\n",
    "plt.plot(x, y, label='Зависимость между количеством детей и невозвратом кредита в срок')\n",
    "plt.title('Зависимость между количеством детей и невозвратом кредита в срок')\n",
    "plt.xlabel('Количество детей')\n",
    "plt.ylabel('Доля невозврата кредита в срок')\n",
    "plt.show()"
   ]
  },
  {
   "cell_type": "markdown",
   "id": "2eb9088e",
   "metadata": {
    "deletable": false,
    "id": "2eb9088e"
   },
   "source": [
    "**Вывод:** \n",
    "\n",
    "Можно предположить, что количество детей непосредственно влияет на возврат кредита в срок. То есть чем больше детей у клиента, тем вероятнее, что могут быть задолжности по возврату кредита в срок. Посмотрим на полученные данные.\n",
    "\n",
    "По полученным результам, можно заметить следующее:\n",
    "\n",
    "- В выборке присутсвуют выдающиеся значения. Например, сравниваются 9 людей с 5 детьми против 14091 людей без детей. Поэтому нерационально учитывать группу с 5 детьми. Также можно сказать, про группу с 4 и 3 детьми.\n",
    "- По количеству людей в каждой группе можно прийти к выводу, что чаще всего берут кредит люди без детей.\n",
    "- Не учитывая группы с 3, 4, 5 детьми из-за большой разницы в данных, самая ответственная группа - группа, не имеющая детей, самая неотвественная - группа с 2 детьми. \n",
    "- Наличие детей влияет на возврат кредита в срок. Отсутсвие детей увеличивает вероятность возврата кредита в срок. Гипотеза подтверждена."
   ]
  },
  {
   "cell_type": "markdown",
   "id": "74c9b3a7",
   "metadata": {
    "deletable": false,
    "editable": false,
    "id": "74c9b3a7"
   },
   "source": [
    "#### 3.2 Есть ли зависимость между семейным положением и возвратом кредита в срок?"
   ]
  },
  {
   "cell_type": "code",
   "execution_count": 27,
   "id": "8098ab3b",
   "metadata": {
    "deletable": false,
    "id": "8098ab3b",
    "scrolled": true
   },
   "outputs": [
    {
     "data": {
      "text/html": [
       "<div>\n",
       "<style scoped>\n",
       "    .dataframe tbody tr th:only-of-type {\n",
       "        vertical-align: middle;\n",
       "    }\n",
       "\n",
       "    .dataframe tbody tr th {\n",
       "        vertical-align: top;\n",
       "    }\n",
       "\n",
       "    .dataframe thead th {\n",
       "        text-align: right;\n",
       "    }\n",
       "</style>\n",
       "<table border=\"1\" class=\"dataframe\">\n",
       "  <thead>\n",
       "    <tr style=\"text-align: right;\">\n",
       "      <th></th>\n",
       "      <th>count</th>\n",
       "      <th>sum</th>\n",
       "      <th>mean</th>\n",
       "    </tr>\n",
       "    <tr>\n",
       "      <th>family_status</th>\n",
       "      <th></th>\n",
       "      <th></th>\n",
       "      <th></th>\n",
       "    </tr>\n",
       "  </thead>\n",
       "  <tbody>\n",
       "    <tr>\n",
       "      <th>Не женат / не замужем</th>\n",
       "      <td>2796</td>\n",
       "      <td>273</td>\n",
       "      <td>0.097639</td>\n",
       "    </tr>\n",
       "    <tr>\n",
       "      <th>в разводе</th>\n",
       "      <td>1189</td>\n",
       "      <td>84</td>\n",
       "      <td>0.070648</td>\n",
       "    </tr>\n",
       "    <tr>\n",
       "      <th>вдовец / вдова</th>\n",
       "      <td>951</td>\n",
       "      <td>63</td>\n",
       "      <td>0.066246</td>\n",
       "    </tr>\n",
       "    <tr>\n",
       "      <th>гражданский брак</th>\n",
       "      <td>4134</td>\n",
       "      <td>385</td>\n",
       "      <td>0.093130</td>\n",
       "    </tr>\n",
       "    <tr>\n",
       "      <th>женат / замужем</th>\n",
       "      <td>12261</td>\n",
       "      <td>927</td>\n",
       "      <td>0.075606</td>\n",
       "    </tr>\n",
       "  </tbody>\n",
       "</table>\n",
       "</div>"
      ],
      "text/plain": [
       "                       count  sum      mean\n",
       "family_status                              \n",
       "Не женат / не замужем   2796  273  0.097639\n",
       "в разводе               1189   84  0.070648\n",
       "вдовец / вдова           951   63  0.066246\n",
       "гражданский брак        4134  385  0.093130\n",
       "женат / замужем        12261  927  0.075606"
      ]
     },
     "execution_count": 27,
     "metadata": {},
     "output_type": "execute_result"
    }
   ],
   "source": [
    "# выразили общее количество людей, сколько всего имеют задолжность и конверсию возрата кредита в срок относительно семейного положения клиента \n",
    "data_3 = aggregation_debt(data, 'family_status')\n",
    "data_3"
   ]
  },
  {
   "cell_type": "code",
   "execution_count": 28,
   "id": "119e46bc",
   "metadata": {},
   "outputs": [
    {
     "data": {
      "text/html": [
       "<div>\n",
       "<style scoped>\n",
       "    .dataframe tbody tr th:only-of-type {\n",
       "        vertical-align: middle;\n",
       "    }\n",
       "\n",
       "    .dataframe tbody tr th {\n",
       "        vertical-align: top;\n",
       "    }\n",
       "\n",
       "    .dataframe thead th {\n",
       "        text-align: right;\n",
       "    }\n",
       "</style>\n",
       "<table border=\"1\" class=\"dataframe\">\n",
       "  <thead>\n",
       "    <tr style=\"text-align: right;\">\n",
       "      <th></th>\n",
       "      <th>count</th>\n",
       "      <th>sum</th>\n",
       "      <th>mean</th>\n",
       "    </tr>\n",
       "    <tr>\n",
       "      <th>family_status</th>\n",
       "      <th></th>\n",
       "      <th></th>\n",
       "      <th></th>\n",
       "    </tr>\n",
       "  </thead>\n",
       "  <tbody>\n",
       "    <tr>\n",
       "      <th>Не женат / не замужем</th>\n",
       "      <td>2796</td>\n",
       "      <td>273</td>\n",
       "      <td>0.097639</td>\n",
       "    </tr>\n",
       "    <tr>\n",
       "      <th>гражданский брак</th>\n",
       "      <td>4134</td>\n",
       "      <td>385</td>\n",
       "      <td>0.093130</td>\n",
       "    </tr>\n",
       "    <tr>\n",
       "      <th>женат / замужем</th>\n",
       "      <td>12261</td>\n",
       "      <td>927</td>\n",
       "      <td>0.075606</td>\n",
       "    </tr>\n",
       "    <tr>\n",
       "      <th>в разводе</th>\n",
       "      <td>1189</td>\n",
       "      <td>84</td>\n",
       "      <td>0.070648</td>\n",
       "    </tr>\n",
       "    <tr>\n",
       "      <th>вдовец / вдова</th>\n",
       "      <td>951</td>\n",
       "      <td>63</td>\n",
       "      <td>0.066246</td>\n",
       "    </tr>\n",
       "  </tbody>\n",
       "</table>\n",
       "</div>"
      ],
      "text/plain": [
       "                       count  sum      mean\n",
       "family_status                              \n",
       "Не женат / не замужем   2796  273  0.097639\n",
       "гражданский брак        4134  385  0.093130\n",
       "женат / замужем        12261  927  0.075606\n",
       "в разводе               1189   84  0.070648\n",
       "вдовец / вдова           951   63  0.066246"
      ]
     },
     "execution_count": 28,
     "metadata": {},
     "output_type": "execute_result"
    }
   ],
   "source": [
    "# отсортировали таблицу по конверсии по убыванию: чем выше группа, тем больше вероятность задолженности\n",
    "data_3 = data_3.sort_values(by='mean', ascending=False)\n",
    "data_3"
   ]
  },
  {
   "cell_type": "code",
   "execution_count": 29,
   "id": "072f098b",
   "metadata": {},
   "outputs": [
    {
     "data": {
      "image/png": "[encoded data removed]",
      "text/plain": [
       "<Figure size 640x480 with 1 Axes>"
      ]
     },
     "metadata": {},
     "output_type": "display_data"
    }
   ],
   "source": [
    "# визуализация полученных данных с помощью графика\n",
    "\n",
    "x = list(data_3.index)\n",
    "y = list(data_3['mean'])\n",
    "plt.bar(x, y, label='Зависимость между семейным положением и невозвратом кредита в срок')\n",
    "plt.title('Зависимость между семейным положением и невозвратом кредита в срок')\n",
    "plt.xlabel('Семейное положение')\n",
    "plt.ylabel('Доля невозврата кредита в срок')\n",
    "plt.xticks(rotation=45)\n",
    "plt.show()"
   ]
  },
  {
   "cell_type": "markdown",
   "id": "c389ca63",
   "metadata": {
    "deletable": false,
    "id": "c389ca63"
   },
   "source": [
    "**Вывод:** \n",
    "\n",
    "Предположим, что люди, которые не имели собственный семейный опыт, менее отвественно подоходят к возврату кредита в срок. Посмотрим на полученные данные.\n",
    "\n",
    "По полученным результатам можно прийти к следующему:\n",
    "\n",
    "- Больше всего имеет задолженности группа со статусом \"Не женат/не замужем\".\n",
    "- Меньше всего задолженность проявляется у группы со статусом \"Вдовец/вдова\".\n",
    "- Больше всего клиентов находятся в статусе \"Женат/замужем\", а меньше всего в статусе \"Вдовец/вдова\".\n",
    "- Посмотрев глобально на вопрос, мы можем сказать, что группы, имеющие семьи, более ответсвенно подходят к погашению кредита. Гипотеза подтверждена."
   ]
  },
  {
   "cell_type": "markdown",
   "id": "9529de68",
   "metadata": {
    "deletable": false,
    "editable": false,
    "id": "9529de68"
   },
   "source": [
    "#### 3.3 Есть ли зависимость между уровнем дохода и возвратом кредита в срок?"
   ]
  },
  {
   "cell_type": "markdown",
   "id": "9adcdb92-61d2-43c0-8d32-6d26eecf6a33",
   "metadata": {},
   "source": [
    "**Уровни дохода**:\n",
    "\n",
    "- 0–30000 — `'E'`;\n",
    "- 30001–50000 — `'D'`;\n",
    "- 50001–200000 — `'C'`;\n",
    "- 200001–1000000 — `'B'`;\n",
    "- 1000001 и выше — `'A'`."
   ]
  },
  {
   "cell_type": "code",
   "execution_count": 30,
   "id": "8787f44a",
   "metadata": {
    "deletable": false,
    "id": "8787f44a"
   },
   "outputs": [
    {
     "data": {
      "text/html": [
       "<div>\n",
       "<style scoped>\n",
       "    .dataframe tbody tr th:only-of-type {\n",
       "        vertical-align: middle;\n",
       "    }\n",
       "\n",
       "    .dataframe tbody tr th {\n",
       "        vertical-align: top;\n",
       "    }\n",
       "\n",
       "    .dataframe thead th {\n",
       "        text-align: right;\n",
       "    }\n",
       "</style>\n",
       "<table border=\"1\" class=\"dataframe\">\n",
       "  <thead>\n",
       "    <tr style=\"text-align: right;\">\n",
       "      <th></th>\n",
       "      <th>count</th>\n",
       "      <th>sum</th>\n",
       "      <th>mean</th>\n",
       "    </tr>\n",
       "    <tr>\n",
       "      <th>total_income_category</th>\n",
       "      <th></th>\n",
       "      <th></th>\n",
       "      <th></th>\n",
       "    </tr>\n",
       "  </thead>\n",
       "  <tbody>\n",
       "    <tr>\n",
       "      <th>A</th>\n",
       "      <td>25</td>\n",
       "      <td>2</td>\n",
       "      <td>0.080000</td>\n",
       "    </tr>\n",
       "    <tr>\n",
       "      <th>B</th>\n",
       "      <td>5014</td>\n",
       "      <td>354</td>\n",
       "      <td>0.070602</td>\n",
       "    </tr>\n",
       "    <tr>\n",
       "      <th>C</th>\n",
       "      <td>15921</td>\n",
       "      <td>1353</td>\n",
       "      <td>0.084982</td>\n",
       "    </tr>\n",
       "    <tr>\n",
       "      <th>D</th>\n",
       "      <td>349</td>\n",
       "      <td>21</td>\n",
       "      <td>0.060172</td>\n",
       "    </tr>\n",
       "    <tr>\n",
       "      <th>E</th>\n",
       "      <td>22</td>\n",
       "      <td>2</td>\n",
       "      <td>0.090909</td>\n",
       "    </tr>\n",
       "  </tbody>\n",
       "</table>\n",
       "</div>"
      ],
      "text/plain": [
       "                       count   sum      mean\n",
       "total_income_category                       \n",
       "A                         25     2  0.080000\n",
       "B                       5014   354  0.070602\n",
       "C                      15921  1353  0.084982\n",
       "D                        349    21  0.060172\n",
       "E                         22     2  0.090909"
      ]
     },
     "execution_count": 30,
     "metadata": {},
     "output_type": "execute_result"
    }
   ],
   "source": [
    "# выразили общее количество людей имеющих определенный уровень дохода, сколько всего имеют задолжность и конверсию возрата кредита в срок относительно уровня дохода клиента\n",
    "data_4 = aggregation_debt(data, 'total_income_category')\n",
    "data_4"
   ]
  },
  {
   "cell_type": "code",
   "execution_count": 31,
   "id": "ee45d02f",
   "metadata": {},
   "outputs": [
    {
     "data": {
      "text/html": [
       "<div>\n",
       "<style scoped>\n",
       "    .dataframe tbody tr th:only-of-type {\n",
       "        vertical-align: middle;\n",
       "    }\n",
       "\n",
       "    .dataframe tbody tr th {\n",
       "        vertical-align: top;\n",
       "    }\n",
       "\n",
       "    .dataframe thead th {\n",
       "        text-align: right;\n",
       "    }\n",
       "</style>\n",
       "<table border=\"1\" class=\"dataframe\">\n",
       "  <thead>\n",
       "    <tr style=\"text-align: right;\">\n",
       "      <th></th>\n",
       "      <th>count</th>\n",
       "      <th>sum</th>\n",
       "      <th>mean</th>\n",
       "    </tr>\n",
       "    <tr>\n",
       "      <th>total_income_category</th>\n",
       "      <th></th>\n",
       "      <th></th>\n",
       "      <th></th>\n",
       "    </tr>\n",
       "  </thead>\n",
       "  <tbody>\n",
       "    <tr>\n",
       "      <th>E</th>\n",
       "      <td>22</td>\n",
       "      <td>2</td>\n",
       "      <td>0.090909</td>\n",
       "    </tr>\n",
       "    <tr>\n",
       "      <th>C</th>\n",
       "      <td>15921</td>\n",
       "      <td>1353</td>\n",
       "      <td>0.084982</td>\n",
       "    </tr>\n",
       "    <tr>\n",
       "      <th>A</th>\n",
       "      <td>25</td>\n",
       "      <td>2</td>\n",
       "      <td>0.080000</td>\n",
       "    </tr>\n",
       "    <tr>\n",
       "      <th>B</th>\n",
       "      <td>5014</td>\n",
       "      <td>354</td>\n",
       "      <td>0.070602</td>\n",
       "    </tr>\n",
       "    <tr>\n",
       "      <th>D</th>\n",
       "      <td>349</td>\n",
       "      <td>21</td>\n",
       "      <td>0.060172</td>\n",
       "    </tr>\n",
       "  </tbody>\n",
       "</table>\n",
       "</div>"
      ],
      "text/plain": [
       "                       count   sum      mean\n",
       "total_income_category                       \n",
       "E                         22     2  0.090909\n",
       "C                      15921  1353  0.084982\n",
       "A                         25     2  0.080000\n",
       "B                       5014   354  0.070602\n",
       "D                        349    21  0.060172"
      ]
     },
     "execution_count": 31,
     "metadata": {},
     "output_type": "execute_result"
    }
   ],
   "source": [
    "# отсортировали таблицу по конверсии по убыванию: чем выше группа, тем больше вероятность задолженности\n",
    "data_4.sort_values(by='mean', ascending=False)"
   ]
  },
  {
   "cell_type": "code",
   "execution_count": 32,
   "id": "1966da2d",
   "metadata": {},
   "outputs": [
    {
     "data": {
      "image/png": "[encoded data removed]",
      "text/plain": [
       "<Figure size 640x480 with 1 Axes>"
      ]
     },
     "metadata": {},
     "output_type": "display_data"
    }
   ],
   "source": [
    "# визуализация полученных данных с помощью графика\n",
    "\n",
    "x = list(data_4.index)\n",
    "y = list(data_4['mean'])\n",
    "plt.plot(x, y, label='Зависимость между уровнем дохода и невозвратом кредита в срок')\n",
    "plt.title('Зависимость между уровнем дохода и невозвратом кредита в срок')\n",
    "plt.xlabel('Уровень дохода')\n",
    "plt.ylabel('Доля невозврата кредита в срок')\n",
    "plt.show()"
   ]
  },
  {
   "cell_type": "markdown",
   "id": "6dd14b57",
   "metadata": {
    "deletable": false,
    "id": "6dd14b57"
   },
   "source": [
    "**Вывод:** \n",
    "\n",
    "Предположим, что чем выше уровень дохода, то тем вероятнее возврат кредита в срок. Посмотрим по полученным данным:\n",
    "\n",
    "- Обратим внимание на выборку групп `E`, `A`, `D` относительно `C`, `B` по параметру `count`. Видим, что присутсвуют выдающиеся значения, из-за чего сравнение может быть нерациональным.\n",
    "- Чаще всего берут кредит группа с уровнем дохода `C`, а реже всего `E`.\n",
    "- Чаще всего возвращают кредит в срок группа с уровнем дохода `B`, если опустить выборку с малым количесвом данных. И реже берет группа с более низким уровнем дохода. Однако всё же недостаточно данных для выявления явной зависимости, поставленной в вопросе. Также в исходных данных были замечаны пропущенные значения в столбце `total_income` в количестве 2174, которые непосредственно определяют уровень дохода. Они были заполнены медианным значением, зависящим от типа занятости клиента, но в любом случае они могут не полностью раскрыть поставленный вопрос. Поэтому гипотеза подтверждена не до конца и недостаточно."
   ]
  },
  {
   "cell_type": "markdown",
   "id": "1dcc9b12",
   "metadata": {
    "deletable": false,
    "editable": false,
    "id": "1dcc9b12"
   },
   "source": [
    "#### 3.4 Как разные цели кредита влияют на его возврат в срок?"
   ]
  },
  {
   "cell_type": "code",
   "execution_count": 33,
   "id": "c602bc8b",
   "metadata": {
    "deletable": false,
    "id": "c602bc8b"
   },
   "outputs": [
    {
     "data": {
      "text/html": [
       "<div>\n",
       "<style scoped>\n",
       "    .dataframe tbody tr th:only-of-type {\n",
       "        vertical-align: middle;\n",
       "    }\n",
       "\n",
       "    .dataframe tbody tr th {\n",
       "        vertical-align: top;\n",
       "    }\n",
       "\n",
       "    .dataframe thead th {\n",
       "        text-align: right;\n",
       "    }\n",
       "</style>\n",
       "<table border=\"1\" class=\"dataframe\">\n",
       "  <thead>\n",
       "    <tr style=\"text-align: right;\">\n",
       "      <th></th>\n",
       "      <th>count</th>\n",
       "      <th>sum</th>\n",
       "      <th>mean</th>\n",
       "    </tr>\n",
       "    <tr>\n",
       "      <th>purpose_category</th>\n",
       "      <th></th>\n",
       "      <th></th>\n",
       "      <th></th>\n",
       "    </tr>\n",
       "  </thead>\n",
       "  <tbody>\n",
       "    <tr>\n",
       "      <th>операции с автомобилем</th>\n",
       "      <td>4279</td>\n",
       "      <td>400</td>\n",
       "      <td>0.093480</td>\n",
       "    </tr>\n",
       "    <tr>\n",
       "      <th>операции с недвижимостью</th>\n",
       "      <td>10751</td>\n",
       "      <td>780</td>\n",
       "      <td>0.072551</td>\n",
       "    </tr>\n",
       "    <tr>\n",
       "      <th>получение образования</th>\n",
       "      <td>3988</td>\n",
       "      <td>369</td>\n",
       "      <td>0.092528</td>\n",
       "    </tr>\n",
       "    <tr>\n",
       "      <th>проведение свадьбы</th>\n",
       "      <td>2313</td>\n",
       "      <td>183</td>\n",
       "      <td>0.079118</td>\n",
       "    </tr>\n",
       "  </tbody>\n",
       "</table>\n",
       "</div>"
      ],
      "text/plain": [
       "                          count  sum      mean\n",
       "purpose_category                              \n",
       "операции с автомобилем     4279  400  0.093480\n",
       "операции с недвижимостью  10751  780  0.072551\n",
       "получение образования      3988  369  0.092528\n",
       "проведение свадьбы         2313  183  0.079118"
      ]
     },
     "execution_count": 33,
     "metadata": {},
     "output_type": "execute_result"
    }
   ],
   "source": [
    "# выразили общее количество людей имеющих определенную цель кредита, сколько всего имеют задолжность и конверсию возрата кредита в срок относительно цели кредита клиента\n",
    "data_5 = aggregation_debt(data, 'purpose_category')\n",
    "data_5"
   ]
  },
  {
   "cell_type": "code",
   "execution_count": 34,
   "id": "fbb63dc0",
   "metadata": {},
   "outputs": [
    {
     "data": {
      "text/html": [
       "<div>\n",
       "<style scoped>\n",
       "    .dataframe tbody tr th:only-of-type {\n",
       "        vertical-align: middle;\n",
       "    }\n",
       "\n",
       "    .dataframe tbody tr th {\n",
       "        vertical-align: top;\n",
       "    }\n",
       "\n",
       "    .dataframe thead th {\n",
       "        text-align: right;\n",
       "    }\n",
       "</style>\n",
       "<table border=\"1\" class=\"dataframe\">\n",
       "  <thead>\n",
       "    <tr style=\"text-align: right;\">\n",
       "      <th></th>\n",
       "      <th>count</th>\n",
       "      <th>sum</th>\n",
       "      <th>mean</th>\n",
       "    </tr>\n",
       "    <tr>\n",
       "      <th>purpose_category</th>\n",
       "      <th></th>\n",
       "      <th></th>\n",
       "      <th></th>\n",
       "    </tr>\n",
       "  </thead>\n",
       "  <tbody>\n",
       "    <tr>\n",
       "      <th>операции с автомобилем</th>\n",
       "      <td>4279</td>\n",
       "      <td>400</td>\n",
       "      <td>0.093480</td>\n",
       "    </tr>\n",
       "    <tr>\n",
       "      <th>получение образования</th>\n",
       "      <td>3988</td>\n",
       "      <td>369</td>\n",
       "      <td>0.092528</td>\n",
       "    </tr>\n",
       "    <tr>\n",
       "      <th>проведение свадьбы</th>\n",
       "      <td>2313</td>\n",
       "      <td>183</td>\n",
       "      <td>0.079118</td>\n",
       "    </tr>\n",
       "    <tr>\n",
       "      <th>операции с недвижимостью</th>\n",
       "      <td>10751</td>\n",
       "      <td>780</td>\n",
       "      <td>0.072551</td>\n",
       "    </tr>\n",
       "  </tbody>\n",
       "</table>\n",
       "</div>"
      ],
      "text/plain": [
       "                          count  sum      mean\n",
       "purpose_category                              \n",
       "операции с автомобилем     4279  400  0.093480\n",
       "получение образования      3988  369  0.092528\n",
       "проведение свадьбы         2313  183  0.079118\n",
       "операции с недвижимостью  10751  780  0.072551"
      ]
     },
     "execution_count": 34,
     "metadata": {},
     "output_type": "execute_result"
    }
   ],
   "source": [
    "# отсортировали таблицу по конверсии по убыванию: чем выше группа, тем больше вероятность задолженности\n",
    "data_5 = data_5.sort_values(by='mean', ascending=False)\n",
    "data_5"
   ]
  },
  {
   "cell_type": "code",
   "execution_count": 35,
   "id": "b8206289",
   "metadata": {},
   "outputs": [
    {
     "data": {
      "image/png": "[encoded data removed]",
      "text/plain": [
       "<Figure size 640x480 with 1 Axes>"
      ]
     },
     "metadata": {},
     "output_type": "display_data"
    }
   ],
   "source": [
    "# визуализация полученных данных с помощью графика\n",
    "\n",
    "x = list(data_5.index)\n",
    "y = list(data_5['mean'])\n",
    "plt.bar(x, y, label='Влияние целей кредита на его возврат в срок')\n",
    "plt.title('Влияние целей кредита на его возврат в срок')\n",
    "plt.xlabel('Цель кредита')\n",
    "plt.ylabel('Доля невозврата кредита в срок')\n",
    "plt.xticks(rotation=45)\n",
    "plt.show()"
   ]
  },
  {
   "cell_type": "markdown",
   "id": "cf05ed63",
   "metadata": {
    "deletable": false,
    "id": "cf05ed63"
   },
   "source": [
    "**Вывод:** \n",
    "\n",
    "Предположим, что конкретные цели влияют на возврат кредита в срок.\n",
    "\n",
    "По полученным результам, можно прийти к следующему:\n",
    "\n",
    "- Чаще всего берут кредит люди, имеющие цель, связанную с операциями недвижмостью, а реже - с проведением свадьбы.\n",
    "- Чаще всего возвращают кредит в срок группа - операции с недвижимостью, реже - операции с автомобилем.\n",
    "- Цели, связанные с постороением семьи и с базовыми потребностями повышают мотивацию закрыть как можно быстрее кредит. Цели дейсвтительно влияют на возврат налога в срок. Гипотеза подтверждена."
   ]
  },
  {
   "cell_type": "markdown",
   "id": "46c1f10b",
   "metadata": {
    "deletable": false,
    "editable": false,
    "id": "46c1f10b"
   },
   "source": [
    "#### 3.5 Приведите возможные причины появления пропусков в исходных данных."
   ]
  },
  {
   "cell_type": "markdown",
   "id": "3697d2a9",
   "metadata": {
    "deletable": false,
    "id": "3697d2a9"
   },
   "source": [
    "Пропуски могут возникнуть по двум факторам: технологическим и человеческим. Рассмотрим, с какими пропусками мы столкнулись в исходных данных.\n",
    "\n",
    "Оказалось, что в двух столбцах есть пропущенные значения: `days_employed`, `total_income` в одинаковом количестве 2174 и в одинаковых строках. Либо могла произойти техническая ошибка: при формировании таблицы, при записи данных, при смене формата и т.д. Либо могла произойти человеческая ошибка при записи данных, но кажется из-за количества пропущенных значений это менее вероятно."
   ]
  },
  {
   "cell_type": "markdown",
   "id": "3137d257",
   "metadata": {
    "deletable": false,
    "editable": false,
    "id": "3137d257"
   },
   "source": [
    "#### 3.6 Объясните, почему заполнить пропуски медианным значением — лучшее решение для количественных переменных."
   ]
  },
  {
   "cell_type": "markdown",
   "id": "cf40012a",
   "metadata": {
    "deletable": false,
    "id": "cf40012a"
   },
   "source": [
    "Заполнить пропуски медианным значением действительно может являться лучшим решением в случае с количественнными переменными. Так как может попасться такая выборка данных, что значения могут быть выдающимися, между ними может быть значительная разница. И тогда вероятность как можно лучше оценить типичные значения выборки может уменьшиться, если использовать среднее значение, вместо медианного."
   ]
  },
  {
   "cell_type": "markdown",
   "id": "57bc304e",
   "metadata": {
    "deletable": false,
    "editable": false,
    "id": "57bc304e"
   },
   "source": [
    "### Шаг 4: общий вывод."
   ]
  },
  {
   "cell_type": "markdown",
   "id": "1ab75d1c",
   "metadata": {
    "deletable": false,
    "id": "1ab75d1c"
   },
   "source": [
    "Были получены входные данные от банка — статистика о платёжеспособности клиентов.\n",
    "\n",
    "**Описание данных**\n",
    "- `children` — количество детей в семье\n",
    "- `days_employed` — общий трудовой стаж в днях\n",
    "- `dob_years` — возраст клиента в годах\n",
    "- `education` — уровень образования клиента\n",
    "- `education_id` — идентификатор уровня образования\n",
    "- `family_status` — семейное положение\n",
    "- `family_status_id` — идентификатор семейного положения\n",
    "- `gender` — пол клиента\n",
    "- `income_type` — тип занятости\n",
    "- `debt` — имел ли задолженность по возврату кредитов\n",
    "- `total_income` — ежемесячный доход\n",
    "- `purpose` — цель получения кредита\n",
    "- `total_income_category` - дополнительный столбец, созданный в процессе анализа, раскрывающий уровень дохода клиента\n",
    "- `purpose_category` - дополнительный столбец, созданный в процессе анализа, формирующий конкретно цель клиента\n",
    "\n",
    "**Результаты работы:**\n",
    "1. Сначала была изучена предоставленная информация. \n",
    "2. Далее по таблице была выполнена предобработка данных:\n",
    "   - Были заменены пропуски в столбцах `days_employed`, `total_income` медианным значением, зависящим от другого фактора `income_type`.\n",
    "   - Были обработаны аномальные значения в нескольких столбцах `days_employed`, `children`.\n",
    "   - Был изменен тип данных в столбце `total_income` на целочисленный.\n",
    "   - Были обработаны дупликаты в столбце `education`.\n",
    "   - Была проведена категоризация данных, в процессе которой добавились новые столбцы `total_income_category` и `purpose_category`.\n",
    "\n",
    "Представленные данные позволили ответить на вопросы и выявить следующие закономерности.\n"
   ]
  },
  {
   "cell_type": "markdown",
   "id": "3e4303d2-efeb-451f-8b36-10e61586652e",
   "metadata": {},
   "source": [
    "**Вопрос 1: Есть ли зависимость между количеством детей и возвратом кредита в срок?**\n",
    "\n",
    "*Ответ:* можно сказать, что да, есть. Чем больше детей у клиентов, тем чаще возможность непогашеннных кредитов в срок. По предоставленным данным, не рассматривались группы с `3`, `4`, `5` детьми, так как имеют малую выборку. Прямая зависимость с группами с `0`, `1` и `2` представлена на графике ниже."
   ]
  },
  {
   "cell_type": "code",
   "execution_count": 36,
   "id": "d038b604-5f8c-4c73-911f-732f053fb36c",
   "metadata": {},
   "outputs": [
    {
     "data": {
      "image/png": "[encoded data removed]",
      "text/plain": [
       "<Figure size 640x480 with 1 Axes>"
      ]
     },
     "metadata": {},
     "output_type": "display_data"
    }
   ],
   "source": [
    "# визуализация полученных данных с помощью графика\n",
    "\n",
    "x = [0, 1, 2]\n",
    "y = [7.5, 9.2, 9.4]\n",
    "plt.plot(x, y, label='Зависимость между количеством детей и невозвратом кредита в срок')\n",
    "plt.title('Зависимость между количеством детей и невозвратом кредита в срок')\n",
    "plt.xlabel('Количество детей')\n",
    "plt.xticks(x, ['0 детей', '1 ребенок', '2 ребенка'])\n",
    "plt.ylabel('Процентая доля невозврата кредита в срок (%)')\n",
    "for i in range(len(x)):\n",
    "    plt.text(x[i], y[i], f'{y[i]}%', ha='left')\n",
    "plt.show()"
   ]
  },
  {
   "cell_type": "markdown",
   "id": "64000261-44ad-483a-bccd-02c3109ba152",
   "metadata": {},
   "source": [
    "**Вопрос 2: Есть ли зависимость между семейным положением и возвратом кредита в срок?**\n",
    "\n",
    "*Ответ:* да, есть. Полученные данные показали, что клиенты в статусе `\"Не женат/ не замужем\"` чаще всего не возвращают в срок кредит (**9,8%**), а реже всего не возвращают клиенты в статусе `\"Вдовец/ вдова\"` (**6,7%**). Общий вывод приводит к тому, что клиенты, имеющие семейный опыт, чаще всего возвращают кредит в срок, так как они могут быть более отвественными."
   ]
  },
  {
   "cell_type": "markdown",
   "id": "201028a6-525b-4519-a9c5-c3a996228c89",
   "metadata": {},
   "source": [
    "**Вопрос 3: Есть ли зависимость между уровнем дохода и возвратом кредита в срок?** \n",
    "\n",
    "*Ответ:* на данный вопрос можно дать частично положительный ответ. По предоставленным данным, не рассматривались группы с уровнем дохода `E`, `A`, `D`. Так они имеют большой разброс в значениях и присутсвуют пропуски, замененные медианным значением по типу занятости клиентов. Поэтому полный ответ на данный вопрос не возможен. Но если рассуждать по данным групп c `B` (**7,1%**), `C` (**8,5%**), то можно заметить, что чем выше уровень дохода, тем меньше вероятность невозврата кредита в срок."
   ]
  },
  {
   "cell_type": "markdown",
   "id": "6bc90b81-c8bb-4c46-a55c-f4cf30a73094",
   "metadata": {},
   "source": [
    "**Вопрос 4: Как разные цели кредита влияют на его возврат в срок?**\n",
    "\n",
    "*Ответ:* разные цели кредита непосредственно влияют на его возврат в срок. Результаты представлены ниже на графике."
   ]
  },
  {
   "cell_type": "code",
   "execution_count": 37,
   "id": "bff0e21c-7f8f-4dc6-8e5c-84015d28c695",
   "metadata": {},
   "outputs": [
    {
     "data": {
      "image/png": "[encoded data removed]",
      "text/plain": [
       "<Figure size 640x480 with 1 Axes>"
      ]
     },
     "metadata": {},
     "output_type": "display_data"
    }
   ],
   "source": [
    "# визуализация полученных данных с помощью графика\n",
    "\n",
    "y = [9.3, 9.3, 7.9, 7.3]\n",
    "x = ['операции с автомобилем', 'получение образования', 'проведение свадьбы', 'операции с недвижимостью']\n",
    "plt.bar(x, y, label='Влияние целей кредита на его возврат в срок')\n",
    "plt.title('Влияние целей кредита на его возврат в срок')\n",
    "plt.xlabel('Цель кредита')\n",
    "plt.ylabel('Процентая доля невозврата кредита в срок (%)')\n",
    "plt.xticks(rotation=45)\n",
    "for i in range(len(x)):\n",
    "    plt.text(x[i], y[i], f'{y[i]}%', ha='right')\n",
    "plt.show()"
   ]
  },
  {
   "cell_type": "markdown",
   "id": "32523bfb-f5a2-4b4c-a2d6-55a43f26e45c",
   "metadata": {},
   "source": [
    "**Итоги:**\n",
    "\n",
    "Проанализировав результат, мы пришли к выводу, что вполне можно пользоваться при построении модели кредитного скоринга полученными данными, связанными с вопросами `2` и `4`. Можно также приглядеться к вопросу `1`, но всё-таки лучше провести более широкую выборку данных. Тоже касается и вопроса `3`, в котором явно не достает данных для полного подтверждения зависимости, поставленной в вопросе, а также рекомендуется здесь разбить данные более детально, ведь уровни дохода имеют довольно больший диапазон."
   ]
  }
 ],
 "metadata": {
  "ExecuteTimeLog": [
   {
    "duration": 51,
    "start_time": "2024-08-03T14:50:37.918Z"
   },
   {
    "duration": 696,
    "start_time": "2024-08-03T14:50:46.359Z"
   },
   {
    "duration": 26,
    "start_time": "2024-08-03T14:50:47.057Z"
   },
   {
    "duration": 17,
    "start_time": "2024-08-03T14:50:47.085Z"
   },
   {
    "duration": 12,
    "start_time": "2024-08-03T14:50:47.104Z"
   },
   {
    "duration": 45,
    "start_time": "2024-08-03T14:50:47.118Z"
   },
   {
    "duration": 4,
    "start_time": "2024-08-03T14:50:47.164Z"
   },
   {
    "duration": 32,
    "start_time": "2024-08-03T14:50:47.170Z"
   },
   {
    "duration": 11,
    "start_time": "2024-08-03T14:50:47.204Z"
   },
   {
    "duration": 31,
    "start_time": "2024-08-03T14:50:47.217Z"
   },
   {
    "duration": 11,
    "start_time": "2024-08-03T14:50:47.252Z"
   },
   {
    "duration": 72,
    "start_time": "2024-08-03T14:50:47.264Z"
   },
   {
    "duration": 17,
    "start_time": "2024-08-03T14:50:47.339Z"
   },
   {
    "duration": 14,
    "start_time": "2024-08-03T14:50:47.357Z"
   },
   {
    "duration": 49,
    "start_time": "2024-08-03T14:50:47.373Z"
   },
   {
    "duration": 81,
    "start_time": "2024-08-03T14:50:47.424Z"
   },
   {
    "duration": 18,
    "start_time": "2024-08-03T14:50:47.507Z"
   },
   {
    "duration": 5,
    "start_time": "2024-08-03T14:50:47.527Z"
   },
   {
    "duration": 39,
    "start_time": "2024-08-03T14:50:47.533Z"
   },
   {
    "duration": 21,
    "start_time": "2024-08-03T14:50:47.574Z"
   },
   {
    "duration": 24,
    "start_time": "2024-08-03T14:50:47.597Z"
   },
   {
    "duration": 37,
    "start_time": "2024-08-03T14:50:47.622Z"
   },
   {
    "duration": 24,
    "start_time": "2024-08-03T14:50:47.661Z"
   },
   {
    "duration": 24,
    "start_time": "2024-08-03T14:50:47.687Z"
   },
   {
    "duration": 27,
    "start_time": "2024-08-03T14:50:47.714Z"
   },
   {
    "duration": 18,
    "start_time": "2024-08-03T14:50:47.743Z"
   },
   {
    "duration": 5,
    "start_time": "2024-08-03T14:52:26.416Z"
   },
   {
    "duration": 4,
    "start_time": "2024-08-03T14:53:19.658Z"
   },
   {
    "duration": 8,
    "start_time": "2024-08-03T14:55:37.103Z"
   },
   {
    "duration": 6,
    "start_time": "2024-08-03T14:57:06.013Z"
   },
   {
    "duration": 5,
    "start_time": "2024-08-03T15:01:44.235Z"
   },
   {
    "duration": 4,
    "start_time": "2024-08-03T15:02:04.935Z"
   },
   {
    "duration": 5,
    "start_time": "2024-08-03T15:02:12.627Z"
   },
   {
    "duration": 6,
    "start_time": "2024-08-03T15:02:58.378Z"
   },
   {
    "duration": 63,
    "start_time": "2024-08-03T15:21:32.672Z"
   },
   {
    "duration": 5,
    "start_time": "2024-08-03T15:21:41.446Z"
   },
   {
    "duration": 9,
    "start_time": "2024-08-03T15:21:47.881Z"
   },
   {
    "duration": 9,
    "start_time": "2024-08-03T15:23:12.374Z"
   },
   {
    "duration": 842,
    "start_time": "2024-08-03T15:30:48.887Z"
   },
   {
    "duration": 64,
    "start_time": "2024-08-03T15:31:08.030Z"
   },
   {
    "duration": 12,
    "start_time": "2024-08-03T15:31:21.665Z"
   },
   {
    "duration": 13,
    "start_time": "2024-08-03T15:31:49.455Z"
   },
   {
    "duration": 12,
    "start_time": "2024-08-03T15:32:05.370Z"
   },
   {
    "duration": 7,
    "start_time": "2024-08-03T15:32:14.253Z"
   },
   {
    "duration": 11,
    "start_time": "2024-08-03T15:32:21.752Z"
   },
   {
    "duration": 13,
    "start_time": "2024-08-03T15:33:23.819Z"
   },
   {
    "duration": 13,
    "start_time": "2024-08-03T15:38:06.083Z"
   },
   {
    "duration": 13,
    "start_time": "2024-08-03T15:38:08.552Z"
   },
   {
    "duration": 14,
    "start_time": "2024-08-03T15:38:15.016Z"
   },
   {
    "duration": 13,
    "start_time": "2024-08-03T15:38:17.358Z"
   },
   {
    "duration": 13,
    "start_time": "2024-08-03T15:44:07.391Z"
   },
   {
    "duration": 14,
    "start_time": "2024-08-03T15:46:35.636Z"
   },
   {
    "duration": 51,
    "start_time": "2024-08-03T15:50:17.683Z"
   },
   {
    "duration": 68,
    "start_time": "2024-08-03T15:50:35.383Z"
   },
   {
    "duration": 14,
    "start_time": "2024-08-03T15:50:57.092Z"
   },
   {
    "duration": 14,
    "start_time": "2024-08-03T15:52:59.950Z"
   },
   {
    "duration": 16,
    "start_time": "2024-08-03T16:22:33.617Z"
   },
   {
    "duration": 11,
    "start_time": "2024-08-03T16:22:42.581Z"
   },
   {
    "duration": 10,
    "start_time": "2024-08-03T16:28:45.229Z"
   },
   {
    "duration": 14,
    "start_time": "2024-08-03T16:28:48.893Z"
   },
   {
    "duration": 11,
    "start_time": "2024-08-03T16:28:50.669Z"
   },
   {
    "duration": 10,
    "start_time": "2024-08-03T16:29:27.880Z"
   },
   {
    "duration": 10,
    "start_time": "2024-08-03T16:29:52.341Z"
   },
   {
    "duration": 412,
    "start_time": "2024-08-03T16:48:10.706Z"
   },
   {
    "duration": 726,
    "start_time": "2024-08-03T16:49:27.582Z"
   },
   {
    "duration": 877,
    "start_time": "2024-08-03T16:49:37.842Z"
   },
   {
    "duration": 714,
    "start_time": "2024-08-03T16:50:17.508Z"
   },
   {
    "duration": 15,
    "start_time": "2024-08-03T16:50:33.601Z"
   },
   {
    "duration": 657,
    "start_time": "2024-08-03T16:50:35.952Z"
   },
   {
    "duration": 4,
    "start_time": "2024-08-03T16:55:49.813Z"
   },
   {
    "duration": 4,
    "start_time": "2024-08-03T16:56:03.812Z"
   },
   {
    "duration": 4,
    "start_time": "2024-08-03T16:56:24.591Z"
   },
   {
    "duration": 3,
    "start_time": "2024-08-03T16:56:32.819Z"
   },
   {
    "duration": 4,
    "start_time": "2024-08-03T16:56:35.919Z"
   },
   {
    "duration": 131,
    "start_time": "2024-08-03T16:58:09.454Z"
   },
   {
    "duration": 130,
    "start_time": "2024-08-03T16:58:30.803Z"
   },
   {
    "duration": 6,
    "start_time": "2024-08-03T17:00:52.034Z"
   },
   {
    "duration": 127,
    "start_time": "2024-08-03T17:04:52.078Z"
   },
   {
    "duration": 123,
    "start_time": "2024-08-03T17:06:52.559Z"
   },
   {
    "duration": 188,
    "start_time": "2024-08-03T17:08:49.056Z"
   },
   {
    "duration": 12,
    "start_time": "2024-08-03T17:28:11.204Z"
   },
   {
    "duration": 499,
    "start_time": "2024-08-03T17:42:54.813Z"
   },
   {
    "duration": 23,
    "start_time": "2024-08-03T17:42:55.314Z"
   },
   {
    "duration": 16,
    "start_time": "2024-08-03T17:42:55.338Z"
   },
   {
    "duration": 12,
    "start_time": "2024-08-03T17:42:55.356Z"
   },
   {
    "duration": 63,
    "start_time": "2024-08-03T17:42:55.370Z"
   },
   {
    "duration": 4,
    "start_time": "2024-08-03T17:42:55.435Z"
   },
   {
    "duration": 15,
    "start_time": "2024-08-03T17:42:55.441Z"
   },
   {
    "duration": 4,
    "start_time": "2024-08-03T17:42:55.458Z"
   },
   {
    "duration": 10,
    "start_time": "2024-08-03T17:42:55.464Z"
   },
   {
    "duration": 4,
    "start_time": "2024-08-03T17:42:55.479Z"
   },
   {
    "duration": 59,
    "start_time": "2024-08-03T17:42:55.485Z"
   },
   {
    "duration": 12,
    "start_time": "2024-08-03T17:42:55.545Z"
   },
   {
    "duration": 4,
    "start_time": "2024-08-03T17:42:55.559Z"
   },
   {
    "duration": 42,
    "start_time": "2024-08-03T17:42:55.565Z"
   },
   {
    "duration": 20,
    "start_time": "2024-08-03T17:42:55.609Z"
   },
   {
    "duration": 18,
    "start_time": "2024-08-03T17:42:55.630Z"
   },
   {
    "duration": 3,
    "start_time": "2024-08-03T17:42:55.649Z"
   },
   {
    "duration": 13,
    "start_time": "2024-08-03T17:42:55.654Z"
   },
   {
    "duration": 6,
    "start_time": "2024-08-03T17:42:55.668Z"
   },
   {
    "duration": 4,
    "start_time": "2024-08-03T17:42:55.675Z"
   },
   {
    "duration": 9,
    "start_time": "2024-08-03T17:42:55.708Z"
   },
   {
    "duration": 71,
    "start_time": "2024-08-03T17:42:55.718Z"
   },
   {
    "duration": 0,
    "start_time": "2024-08-03T17:42:55.790Z"
   },
   {
    "duration": 0,
    "start_time": "2024-08-03T17:42:55.807Z"
   },
   {
    "duration": 0,
    "start_time": "2024-08-03T17:42:55.808Z"
   },
   {
    "duration": 0,
    "start_time": "2024-08-03T17:42:55.809Z"
   },
   {
    "duration": 0,
    "start_time": "2024-08-03T17:42:55.810Z"
   },
   {
    "duration": 0,
    "start_time": "2024-08-03T17:42:55.811Z"
   },
   {
    "duration": 0,
    "start_time": "2024-08-03T17:42:55.812Z"
   },
   {
    "duration": 0,
    "start_time": "2024-08-03T17:42:55.813Z"
   },
   {
    "duration": 0,
    "start_time": "2024-08-03T17:42:55.814Z"
   },
   {
    "duration": 0,
    "start_time": "2024-08-03T17:42:55.815Z"
   },
   {
    "duration": 489,
    "start_time": "2024-08-03T17:43:05.125Z"
   },
   {
    "duration": 24,
    "start_time": "2024-08-03T17:43:05.616Z"
   },
   {
    "duration": 17,
    "start_time": "2024-08-03T17:43:05.641Z"
   },
   {
    "duration": 22,
    "start_time": "2024-08-03T17:43:05.660Z"
   },
   {
    "duration": 48,
    "start_time": "2024-08-03T17:43:05.683Z"
   },
   {
    "duration": 3,
    "start_time": "2024-08-03T17:43:05.732Z"
   },
   {
    "duration": 13,
    "start_time": "2024-08-03T17:43:05.737Z"
   },
   {
    "duration": 15,
    "start_time": "2024-08-03T17:43:05.752Z"
   },
   {
    "duration": 21,
    "start_time": "2024-08-03T17:43:05.769Z"
   },
   {
    "duration": 5,
    "start_time": "2024-08-03T17:43:05.793Z"
   },
   {
    "duration": 38,
    "start_time": "2024-08-03T17:43:05.799Z"
   },
   {
    "duration": 11,
    "start_time": "2024-08-03T17:43:05.839Z"
   },
   {
    "duration": 9,
    "start_time": "2024-08-03T17:43:05.856Z"
   },
   {
    "duration": 23,
    "start_time": "2024-08-03T17:43:05.867Z"
   },
   {
    "duration": 24,
    "start_time": "2024-08-03T17:43:05.892Z"
   },
   {
    "duration": 17,
    "start_time": "2024-08-03T17:43:05.918Z"
   },
   {
    "duration": 6,
    "start_time": "2024-08-03T17:43:05.937Z"
   },
   {
    "duration": 22,
    "start_time": "2024-08-03T17:43:05.944Z"
   },
   {
    "duration": 7,
    "start_time": "2024-08-03T17:43:05.968Z"
   },
   {
    "duration": 4,
    "start_time": "2024-08-03T17:43:05.976Z"
   },
   {
    "duration": 33,
    "start_time": "2024-08-03T17:43:05.982Z"
   },
   {
    "duration": 78,
    "start_time": "2024-08-03T17:43:06.018Z"
   },
   {
    "duration": 0,
    "start_time": "2024-08-03T17:43:06.098Z"
   },
   {
    "duration": 0,
    "start_time": "2024-08-03T17:43:06.107Z"
   },
   {
    "duration": 0,
    "start_time": "2024-08-03T17:43:06.109Z"
   },
   {
    "duration": 0,
    "start_time": "2024-08-03T17:43:06.111Z"
   },
   {
    "duration": 0,
    "start_time": "2024-08-03T17:43:06.112Z"
   },
   {
    "duration": 0,
    "start_time": "2024-08-03T17:43:06.114Z"
   },
   {
    "duration": 0,
    "start_time": "2024-08-03T17:43:06.115Z"
   },
   {
    "duration": 0,
    "start_time": "2024-08-03T17:43:06.116Z"
   },
   {
    "duration": 0,
    "start_time": "2024-08-03T17:43:06.117Z"
   },
   {
    "duration": 0,
    "start_time": "2024-08-03T17:43:06.119Z"
   },
   {
    "duration": 491,
    "start_time": "2024-08-03T17:43:30.925Z"
   },
   {
    "duration": 25,
    "start_time": "2024-08-03T17:43:31.418Z"
   },
   {
    "duration": 29,
    "start_time": "2024-08-03T17:43:31.444Z"
   },
   {
    "duration": 21,
    "start_time": "2024-08-03T17:43:31.475Z"
   },
   {
    "duration": 45,
    "start_time": "2024-08-03T17:43:31.498Z"
   },
   {
    "duration": 4,
    "start_time": "2024-08-03T17:43:31.545Z"
   },
   {
    "duration": 38,
    "start_time": "2024-08-03T17:43:31.550Z"
   },
   {
    "duration": 26,
    "start_time": "2024-08-03T17:43:31.590Z"
   },
   {
    "duration": 7,
    "start_time": "2024-08-03T17:43:31.618Z"
   },
   {
    "duration": 4,
    "start_time": "2024-08-03T17:43:31.629Z"
   },
   {
    "duration": 43,
    "start_time": "2024-08-03T17:43:31.635Z"
   },
   {
    "duration": 11,
    "start_time": "2024-08-03T17:43:31.680Z"
   },
   {
    "duration": 4,
    "start_time": "2024-08-03T17:43:31.707Z"
   },
   {
    "duration": 16,
    "start_time": "2024-08-03T17:43:31.712Z"
   },
   {
    "duration": 21,
    "start_time": "2024-08-03T17:43:31.730Z"
   },
   {
    "duration": 18,
    "start_time": "2024-08-03T17:43:31.753Z"
   },
   {
    "duration": 4,
    "start_time": "2024-08-03T17:43:31.772Z"
   },
   {
    "duration": 37,
    "start_time": "2024-08-03T17:43:31.777Z"
   },
   {
    "duration": 7,
    "start_time": "2024-08-03T17:43:31.815Z"
   },
   {
    "duration": 4,
    "start_time": "2024-08-03T17:43:31.824Z"
   },
   {
    "duration": 17,
    "start_time": "2024-08-03T17:43:31.829Z"
   },
   {
    "duration": 17,
    "start_time": "2024-08-03T17:43:31.848Z"
   },
   {
    "duration": 9,
    "start_time": "2024-08-03T17:43:31.866Z"
   },
   {
    "duration": 411,
    "start_time": "2024-08-03T17:43:31.877Z"
   },
   {
    "duration": 19,
    "start_time": "2024-08-03T17:43:32.289Z"
   },
   {
    "duration": 11,
    "start_time": "2024-08-03T17:43:32.309Z"
   },
   {
    "duration": 189,
    "start_time": "2024-08-03T17:43:32.322Z"
   },
   {
    "duration": 13,
    "start_time": "2024-08-03T17:43:32.515Z"
   },
   {
    "duration": 9,
    "start_time": "2024-08-03T17:43:32.530Z"
   },
   {
    "duration": 153,
    "start_time": "2024-08-03T17:43:32.541Z"
   },
   {
    "duration": 14,
    "start_time": "2024-08-03T17:43:32.695Z"
   },
   {
    "duration": 9,
    "start_time": "2024-08-03T17:43:32.711Z"
   },
   {
    "duration": 150,
    "start_time": "2024-08-03T17:45:18.598Z"
   },
   {
    "duration": 572,
    "start_time": "2024-08-05T06:22:51.375Z"
   },
   {
    "duration": 26,
    "start_time": "2024-08-05T06:22:51.955Z"
   },
   {
    "duration": 16,
    "start_time": "2024-08-05T06:22:51.983Z"
   },
   {
    "duration": 34,
    "start_time": "2024-08-05T06:22:52.001Z"
   },
   {
    "duration": 54,
    "start_time": "2024-08-05T06:22:52.036Z"
   },
   {
    "duration": 3,
    "start_time": "2024-08-05T06:22:52.092Z"
   },
   {
    "duration": 46,
    "start_time": "2024-08-05T06:22:52.097Z"
   },
   {
    "duration": 11,
    "start_time": "2024-08-05T06:22:52.144Z"
   },
   {
    "duration": 25,
    "start_time": "2024-08-05T06:22:52.158Z"
   },
   {
    "duration": 21,
    "start_time": "2024-08-05T06:22:52.186Z"
   },
   {
    "duration": 95,
    "start_time": "2024-08-05T06:22:52.210Z"
   },
   {
    "duration": 12,
    "start_time": "2024-08-05T06:22:52.306Z"
   },
   {
    "duration": 42,
    "start_time": "2024-08-05T06:22:52.320Z"
   },
   {
    "duration": 35,
    "start_time": "2024-08-05T06:22:52.365Z"
   },
   {
    "duration": 110,
    "start_time": "2024-08-05T06:22:52.402Z"
   },
   {
    "duration": 28,
    "start_time": "2024-08-05T06:22:52.513Z"
   },
   {
    "duration": 12,
    "start_time": "2024-08-05T06:22:52.543Z"
   },
   {
    "duration": 28,
    "start_time": "2024-08-05T06:22:52.558Z"
   },
   {
    "duration": 33,
    "start_time": "2024-08-05T06:22:52.588Z"
   },
   {
    "duration": 3,
    "start_time": "2024-08-05T06:22:52.624Z"
   },
   {
    "duration": 37,
    "start_time": "2024-08-05T06:22:52.628Z"
   },
   {
    "duration": 19,
    "start_time": "2024-08-05T06:22:52.668Z"
   },
   {
    "duration": 11,
    "start_time": "2024-08-05T06:22:52.689Z"
   },
   {
    "duration": 628,
    "start_time": "2024-08-05T06:22:52.747Z"
   },
   {
    "duration": 15,
    "start_time": "2024-08-05T06:22:53.376Z"
   },
   {
    "duration": 9,
    "start_time": "2024-08-05T06:22:53.393Z"
   },
   {
    "duration": 179,
    "start_time": "2024-08-05T06:22:53.404Z"
   },
   {
    "duration": 14,
    "start_time": "2024-08-05T06:22:53.588Z"
   },
   {
    "duration": 9,
    "start_time": "2024-08-05T06:22:53.603Z"
   },
   {
    "duration": 161,
    "start_time": "2024-08-05T06:22:53.614Z"
   },
   {
    "duration": 13,
    "start_time": "2024-08-05T06:22:53.777Z"
   },
   {
    "duration": 10,
    "start_time": "2024-08-05T06:22:53.792Z"
   },
   {
    "duration": 168,
    "start_time": "2024-08-05T06:22:53.803Z"
   },
   {
    "duration": 228,
    "start_time": "2024-08-05T06:22:53.972Z"
   },
   {
    "duration": 191,
    "start_time": "2024-08-05T06:22:54.202Z"
   },
   {
    "duration": 15,
    "start_time": "2024-08-05T06:23:15.018Z"
   },
   {
    "duration": 14,
    "start_time": "2024-08-05T06:25:04.888Z"
   },
   {
    "duration": 14,
    "start_time": "2024-08-05T06:25:14.600Z"
   },
   {
    "duration": 831,
    "start_time": "2024-08-05T06:29:12.178Z"
   },
   {
    "duration": 12,
    "start_time": "2024-08-05T06:29:21.547Z"
   },
   {
    "duration": 11,
    "start_time": "2024-08-05T06:37:24.260Z"
   }
  ],
  "colab": {
   "provenance": []
  },
  "kernelspec": {
   "display_name": "Python 3 (ipykernel)",
   "language": "python",
   "name": "python3"
  },
  "language_info": {
   "codemirror_mode": {
    "name": "ipython",
    "version": 3
   },
   "file_extension": ".py",
   "mimetype": "text/x-python",
   "name": "python",
   "nbconvert_exporter": "python",
   "pygments_lexer": "ipython3",
   "version": "3.12.4"
  },
  "toc": {
   "base_numbering": 1,
   "nav_menu": {},
   "number_sections": true,
   "sideBar": true,
   "skip_h1_title": true,
   "title_cell": "Table of Contents",
   "title_sidebar": "Contents",
   "toc_cell": false,
   "toc_position": {},
   "toc_section_display": true,
   "toc_window_display": false
  }
 },
 "nbformat": 4,
 "nbformat_minor": 5
}
